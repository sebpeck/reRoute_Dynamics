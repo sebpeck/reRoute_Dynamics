{
 "cells": [
  {
   "cell_type": "markdown",
   "id": "4cdd1c02-f0f4-4a5b-b705-3ec6caa8907b",
   "metadata": {},
   "source": [
    "# Geography_Tools Examples\n",
    "This notebook will give you a quick rundown of the methods and tools used in Geography_Tools.py. There are a good number, but most are relatively uncomplicated. To get ourselves started, we're going to need some bits of geospatial data. For the purposes of our demonstration, I'll provide a series of geospatial coordinates that follow a particular stretch of road in Redmond, Washington. Normally, however, you will probably want to use a shapefile. Fortunately, there's already plenty of documentation out on the web to figure that part out. And if there isn't, well... I'd reckon there are bigger issues afoot. \n",
    "\n",
    "The Raster elevation files can be downloaded from [The Washington Lidar Portal](https://lidarportal.dnr.wa.gov/#47.63636:-122.11905:13). Specifically, for this example I am using Redmond 2014's DTM (digital terrain model), which represents the tree-less and building-less topography of a landscape.\n",
    "\n",
    "First things first, let's get the road's data prepped and ready. "
   ]
  },
  {
   "cell_type": "code",
   "execution_count": 8,
   "id": "f9f16a1a-4f81-4c5b-82df-1560111d5e69",
   "metadata": {
    "tags": []
   },
   "outputs": [
    {
     "data": {
      "text/html": [
       "<div>\n",
       "<style scoped>\n",
       "    .dataframe tbody tr th:only-of-type {\n",
       "        vertical-align: middle;\n",
       "    }\n",
       "\n",
       "    .dataframe tbody tr th {\n",
       "        vertical-align: top;\n",
       "    }\n",
       "\n",
       "    .dataframe thead th {\n",
       "        text-align: right;\n",
       "    }\n",
       "</style>\n",
       "<table border=\"1\" class=\"dataframe\">\n",
       "  <thead>\n",
       "    <tr style=\"text-align: right;\">\n",
       "      <th></th>\n",
       "      <th>0</th>\n",
       "      <th>1</th>\n",
       "    </tr>\n",
       "  </thead>\n",
       "  <tbody>\n",
       "    <tr>\n",
       "      <th>0</th>\n",
       "      <td>47.6670</td>\n",
       "      <td>-122.1279</td>\n",
       "    </tr>\n",
       "    <tr>\n",
       "      <th>1</th>\n",
       "      <td>47.6672</td>\n",
       "      <td>-122.1276</td>\n",
       "    </tr>\n",
       "    <tr>\n",
       "      <th>2</th>\n",
       "      <td>47.6673</td>\n",
       "      <td>-122.1255</td>\n",
       "    </tr>\n",
       "    <tr>\n",
       "      <th>3</th>\n",
       "      <td>47.6673</td>\n",
       "      <td>-122.1172</td>\n",
       "    </tr>\n",
       "    <tr>\n",
       "      <th>4</th>\n",
       "      <td>47.6674</td>\n",
       "      <td>-122.1110</td>\n",
       "    </tr>\n",
       "    <tr>\n",
       "      <th>5</th>\n",
       "      <td>47.6687</td>\n",
       "      <td>-122.1084</td>\n",
       "    </tr>\n",
       "    <tr>\n",
       "      <th>6</th>\n",
       "      <td>47.6676</td>\n",
       "      <td>-122.1075</td>\n",
       "    </tr>\n",
       "    <tr>\n",
       "      <th>7</th>\n",
       "      <td>47.6702</td>\n",
       "      <td>-122.1070</td>\n",
       "    </tr>\n",
       "  </tbody>\n",
       "</table>\n",
       "</div>"
      ],
      "text/plain": [
       "         0         1\n",
       "0  47.6670 -122.1279\n",
       "1  47.6672 -122.1276\n",
       "2  47.6673 -122.1255\n",
       "3  47.6673 -122.1172\n",
       "4  47.6674 -122.1110\n",
       "5  47.6687 -122.1084\n",
       "6  47.6676 -122.1075\n",
       "7  47.6702 -122.1070"
      ]
     },
     "execution_count": 8,
     "metadata": {},
     "output_type": "execute_result"
    }
   ],
   "source": [
    "import pandas as pd\n",
    "import sys\n",
    "import os\n",
    "sys.path.append('../src/reRoute_Dynamics_Core')\n",
    "import Geography_Tools as gt\n",
    "\n",
    "route_geodata_path = \"./KC_Example_Data/Example_Route_Data/example_redmond_road.csv\"\n",
    "route_geodata = pd.read_csv(route_geodata_path, header=None)\n",
    "route_geodata"
   ]
  },
  {
   "cell_type": "markdown",
   "id": "a27fbf37-9bb8-453c-a192-97f49a347cd1",
   "metadata": {},
   "source": [
    "There, we have the latitudes and longitudes of some points on that route! <br> Let's also grab the path for our elevation rasters, while we're at it. \n",
    "This directory will differ depending on where you download them on your computer, so be sure to adjust your path accordingly!\n"
   ]
  },
  {
   "cell_type": "code",
   "execution_count": 6,
   "id": "93a82fc5-ca96-4d0d-a1f5-05ec7280b5e6",
   "metadata": {
    "tags": []
   },
   "outputs": [
    {
     "data": {
      "text/plain": [
       "['redmond_2014_dtm_0.tif',\n",
       " 'redmond_2014_dtm_2.tif',\n",
       " 'redmond_2014_dtm_1.tif',\n",
       " 'redmond_2014_dtm_3.tif']"
      ]
     },
     "execution_count": 6,
     "metadata": {},
     "output_type": "execute_result"
    }
   ],
   "source": [
    "import os\n",
    "redmond_rasters_path = \"./KC_Example_Data/Example_Raster_Data/Redmond_2014/dtm/\"\n",
    "os.listdir(redmond_rasters_path)"
   ]
  },
  {
   "cell_type": "markdown",
   "id": "47cd5a20-17db-49ed-85be-eca9c1eb9b97",
   "metadata": {},
   "source": [
    "And there are our dear, data heavy, raster files. Or, their paths, anyways."
   ]
  },
  {
   "cell_type": "markdown",
   "id": "3904ecdd-aea2-4534-85dd-9c177150a558",
   "metadata": {
    "tags": []
   },
   "source": [
    "On to our first method!\n",
    "## haversine_formula()\n",
    "[The Haversine Formula](https://en.wikipedia.org/wiki/Haversine_formula) is a well documented equation that is used to calculate the geodesic (read: as a crow flies) distance between two geospatial coordinate points. In this case, I'm calculating it accordingly, using the [arctan2 method](https://numpy.org/doc/stable/reference/generated/numpy.arctan2.html) for determining the arc tangent of the numerator over the denomenator.\n",
    "$$\n",
    "\\displaystyle a = \\sin^2(\\frac{(φ_2 - φ_1)}{2}) + \\cos(φ_1) \\cdot \\cos(φ_2) \\cdot \\sin^2(\\frac{λ_2 - λ_1}{2})\n",
    "$$\n",
    "$$\n",
    "\\displaystyle b = 2 \\cdot \\arctan(\\frac{\\sqrt{a}}{\\sqrt{1-a}})\n",
    "$$\n",
    "$$\n",
    "\\displaystyle distance = R \\cdot b\n",
    "$$\n",
    "Where (λ, φ) are the respective latitude and longitude for point 1 or 2, and R is the radius of earth (in this case, assumed to be an average of the [polar and equitorial radii](https://en.wikipedia.org/wiki/Earth_radius). <br><br> So let's use it!"
   ]
  },
  {
   "cell_type": "code",
   "execution_count": 14,
   "id": "02e43535-bba1-4482-94ba-d27e200886b4",
   "metadata": {
    "tags": []
   },
   "outputs": [
    {
     "name": "stdout",
     "output_type": "stream",
     "text": [
      "Our distance is 0.03159313809972186 km, or 31.593138099721862 m!\n"
     ]
    }
   ],
   "source": [
    "# Let's use points zero and 1!\n",
    "point_a = (route_geodata[0][0], route_geodata[1][0])\n",
    "point_b = (route_geodata[0][1], route_geodata[1][1])\n",
    "\n",
    "dist = gt.haversine_formula(*(point_a + point_b))\n",
    "print(\"Our distance is {} km, or {} m!\".format(dist, dist*1000))"
   ]
  },
  {
   "cell_type": "markdown",
   "id": "cea4cf37-a845-4d3a-8431-a7b8a2232b41",
   "metadata": {},
   "source": [
    "Now granted, the accuracy of these values is entirely dependant on the accuracy of the data you give it. So, take anything less than about a meter with a grain of salt, as that's the minimum size of the radius in-built to the method."
   ]
  },
  {
   "cell_type": "markdown",
   "id": "2a6e85b2-299a-4f77-b073-3fc6c7b4f3c6",
   "metadata": {},
   "source": [
    "## point_bearing(), heading_to_angle(), and compass_heading()\n",
    "So, what if we wanted to know the directo we would have to travel to get from point a to point b? Well, we've got a tool for that, too. It's called point_bearing(), and it calculates the angles between two points to get the bearing between point 1 and 2. \n",
    "\n",
    "This is done through first converting the latitude and longitude values passed to radians,\n",
    "and subsequently performing the following calculation: \n",
    "\n",
    "$$\n",
    "\\displaystyle x = \\cos(λ_2) \\cdot \\sin(φ_2 - φ_1)\n",
    "$$\n",
    "$$\n",
    "\\displaystyle y = \\cos(λ_1) \\cdot \\sin(λ_2) - \\sin(λ_1) \\cdot \\cos(λ_2) \\cdot \\cos(φ_2 - φ_1)\n",
    "$$\n",
    "$$\n",
    "\\displaystyle θ = \\arctan(\\frac{x}{y})\n",
    "$$\n",
    "\n",
    "Where, once again, (λ, φ) are the respective latitude and longitude for point 1 or 2. This radian value is then converted back to a degree value, to get a compass bearing! Let's try it out.\n"
   ]
  },
  {
   "cell_type": "code",
   "execution_count": 19,
   "id": "de3f84a5-7179-46a4-90f2-947438c2c4fc",
   "metadata": {
    "tags": []
   },
   "outputs": [
    {
     "name": "stdout",
     "output_type": "stream",
     "text": [
      "Travel from point a to point b at an angle of 45.289355087237645 degrees from true north, \n",
      "and travel from b to a at an angle of -134.7104231389919 degrees from true north.\n"
     ]
    }
   ],
   "source": [
    "compass_angle_1 = gt.point_bearing(*(point_a + point_b))\n",
    "compass_angle_2 = gt.point_bearing(*(point_b + point_a))\n",
    "\n",
    "print(\"Travel from point a to point b at an angle of {} degrees from true north, \\nand travel from b to a at an angle of {} degrees from true north.\".format(compass_angle_1, compass_angle_2))"
   ]
  },
  {
   "cell_type": "markdown",
   "id": "34e62e25-33aa-4ee9-a3a7-e3fdda84b59c",
   "metadata": {},
   "source": [
    "You may be rightly asking: but what __direction__ are any of those in? The answer to which we've got in  compass_heading(). It takes a bearing angle from true north, and returns a compass heading."
   ]
  },
  {
   "cell_type": "code",
   "execution_count": 20,
   "id": "3dca08a4-9a1e-4586-a666-33b4470cb3db",
   "metadata": {
    "tags": []
   },
   "outputs": [
    {
     "name": "stdout",
     "output_type": "stream",
     "text": [
      "Heading from a to b: NE\n",
      "Heading from b to a: SW\n"
     ]
    }
   ],
   "source": [
    "heading_1 = gt.compass_heading(compass_angle_1)\n",
    "heading_2 = gt.compass_heading(compass_angle_2)\n",
    "\n",
    "print(\"Heading from a to b: {}\\nHeading from b to a: {}\".format(heading_1, heading_2))"
   ]
  },
  {
   "cell_type": "markdown",
   "id": "14b08fed-e7d6-4f77-9b3c-458c0406a7c1",
   "metadata": {},
   "source": [
    "And there we have it! If you ever want to convert a heading back to an angle, (at a loss of precision, of course, you can use the heading_to_angle() method, by simply passing it 'NE' or 'W'. "
   ]
  },
  {
   "cell_type": "code",
   "execution_count": null,
   "id": "00814d1e-1f28-437f-a421-126f854e7654",
   "metadata": {},
   "outputs": [],
   "source": []
  }
 ],
 "metadata": {
  "kernelspec": {
   "display_name": "Python 3 (ipykernel)",
   "language": "python",
   "name": "python3"
  },
  "language_info": {
   "codemirror_mode": {
    "name": "ipython",
    "version": 3
   },
   "file_extension": ".py",
   "mimetype": "text/x-python",
   "name": "python",
   "nbconvert_exporter": "python",
   "pygments_lexer": "ipython3",
   "version": "3.12.3"
  }
 },
 "nbformat": 4,
 "nbformat_minor": 5
}
