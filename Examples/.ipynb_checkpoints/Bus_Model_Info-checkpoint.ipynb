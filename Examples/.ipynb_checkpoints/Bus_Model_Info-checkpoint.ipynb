{
 "cells": [
  {
   "cell_type": "markdown",
   "id": "363e3d74-a5ea-43bc-bd16-917f4dc65728",
   "metadata": {
    "tags": []
   },
   "source": [
    "# Bus Model Information\n",
    "This notebook is intended to act as a location where values and sources for different bus, trip, and ESS models are stored. "
   ]
  },
  {
   "cell_type": "code",
   "execution_count": null,
   "id": "ac64c117-0be2-41b6-9fd0-8b2f018fd65b",
   "metadata": {},
   "outputs": [],
   "source": [
    "# XDE35: "
   ]
  }
 ],
 "metadata": {
  "kernelspec": {
   "display_name": "Python 3 (ipykernel)",
   "language": "python",
   "name": "python3"
  },
  "language_info": {
   "codemirror_mode": {
    "name": "ipython",
    "version": 3
   },
   "file_extension": ".py",
   "mimetype": "text/x-python",
   "name": "python",
   "nbconvert_exporter": "python",
   "pygments_lexer": "ipython3",
   "version": "3.12.3"
  }
 },
 "nbformat": 4,
 "nbformat_minor": 5
}
