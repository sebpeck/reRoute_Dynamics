{
 "cells": [
  {
   "cell_type": "markdown",
   "id": "363e3d74-a5ea-43bc-bd16-917f4dc65728",
   "metadata": {
    "tags": []
   },
   "source": [
    "# Bus Model Information\n",
    "This notebook is intended to act as a location where values and sources for different bus, trip, and ESS models are stored. "
   ]
  },
  {
   "cell_type": "code",
   "execution_count": 13,
   "id": "79ccedef-1aef-4a34-86bf-a6c68fbe7f6e",
   "metadata": {
    "tags": []
   },
   "outputs": [],
   "source": [
    "# General Purpose:\n",
    "import sys\n",
    "sys.path.append(\"../src/\")\n",
    "from reRoute_Dynamics import Object_Params as op\n",
    "bus_directory = \"./KC_Example_Data/Saved_Objects/Busses/\"\n",
    "trip_directory =  \"./KC_Example_Data/Saved_Objects/Trips/\"\n",
    "ESS_directory =  \"./KC_Example_Data/Saved_Objects/ESSes/\"\n",
    "\n",
    "a_prof_path = \"KC_Example_Data/Acceleration_Profiles/Braunschweig_Acceleration.csv\"#Interpolated from @NREL_Drive_Cylces"
   ]
  },
  {
   "cell_type": "code",
   "execution_count": 14,
   "id": "1a0ca02f-edf2-41fc-95fa-453bac84129f",
   "metadata": {
    "tags": []
   },
   "outputs": [
    {
     "data": {
      "text/plain": [
       "'./KC_Example_Data/Saved_Objects/Trips/base_seattle_trip.txt'"
      ]
     },
     "execution_count": 14,
     "metadata": {},
     "output_type": "execute_result"
    }
   ],
   "source": [
    "base_trip = op.Trip(pass_mass = 84, #kg, calculated from @CDC_Human_Mass\n",
    "                    limit_MOE = .15, # percent of the speed limit the value can be within. \n",
    "                    signal_rest = 65/2, # seconds, based on @WSDOT_Signals\n",
    "                    signal_chance = .541666, # fraction o fthe time the bus will hit a red light when passing a signal. This is calculated based on @WSDOT_Signals\n",
    "                    stop_rest = 7, # seconds per passenger boarding. This is a Guess. \n",
    "                    sign_rest = 7, # seconds. This is a guess of how long a bus will stop at a stop sign.\n",
    "                    end_rest = 10, # seconds.amount of time the bus rests at the beginning or end of a route before bus is turned off.\n",
    "                    air_density = 1.22, # based on seattle typical temperature of 12.7 degrees C. @Air_Density\n",
    "                    wind_speed = 1.78, #m/s, based on typical wind speed in seattle @Weatherspark_Seattle\n",
    "                    wind_heading = 'SE', #per @Weatherspark_Seattle\n",
    "                    temperature = 12.7, #deg C, per @Weatherspark_Seattle\n",
    "                    interp_length = 10, # meters, guess. \n",
    "                    mean_ridership = 3.5, # People. Back of napkin from @KC_Rider_Stats and other KCM route data\n",
    "                    seed = 42, # random seed, subject to change\n",
    "                    lg=43, #savgol param\n",
    "                    deg = 3, #savgol param\n",
    "                    stop_margin = 1 #m/s, margin for the velocity to be considered 'stopped'\n",
    "                   )\n",
    "base_trip.save(trip_directory+\"base_seattle_trip.txt\")"
   ]
  },
  {
   "cell_type": "code",
   "execution_count": 15,
   "id": "c7e09d58-aaa4-40a1-8d15-b0846c4eb5d6",
   "metadata": {},
   "outputs": [
    {
     "data": {
      "text/plain": [
       "'./KC_Example_Data/Saved_Objects/ESSes/XDE60_ESS.txt'"
      ]
     },
     "execution_count": 15,
     "metadata": {},
     "output_type": "execute_result"
    }
   ],
   "source": [
    "# XDE60 HEV version: \n",
    "XDE60 = op.Bus(bus_mass = 19096, #kg, @NF_Xcelsior\n",
    "               frontal_width = 2.6, #m,@NF_Xcelsior\n",
    "               frontal_height = 3.3, #m, @NF_Xcelsior\n",
    "               drag_coeff = .7, # Unitless. Many suspect papers cite .6, but best bet was one citing ORNL bus database saying .79, @Gao_Et_Al\n",
    "               friction_coeff = .01, # unitless, otherwise known as rolling resistance. @Rolling_Resistance\n",
    "               braking_accel = 1.5, #1.5m/s^2, handbrake required to stop from 20 mph, over no set distance. emergency brake must be capable of up to 6.5m/s^2 (20 mph over 20 ft).@APTA_Braking_Standards\n",
    "               br_factor = .5, # driver braking aggression. Variable based on driver.\n",
    "               i_factor = 1.1, # unitless, accounts for wheels, driveshaft, etc, cited from @Gallet\n",
    "                               # however, there is no substantive explanation as to how it was calculated/obtained.\n",
    "               max_dist = 304.8, # m, expected stopping distance for a bust from 60 mph calculated from google map offramp length measurements of I-5.\n",
    "               a_prof_path =a_prof_path, # based on the Braunschweig drive cycle @NREL_Drive_Cycles\n",
    "               max_acc = .4, # m/s^2, chosen due to it being a decent extension of existing drive cycle. subject to change.\n",
    "               max_dt = .5, #s, timestep for that extension. \n",
    "               max_P = 300000 # W, @Siemens_Traction_Motor \n",
    "              )\n",
    "\n",
    "# Saving the object.\n",
    "XDE60.save(bus_directory + \"XDE60.txt\")\n",
    "\n",
    "\n",
    "# The XDE60 @Siemens_Traction_Motor\n",
    "# Cooling system: @E-Fan_Cooling\n",
    "# Approx 10080 watts at max cooling\n",
    "# HVAC system, @Thermoking_TE18\n",
    "# Approx 3k watts at max hvac\n",
    "# thus, a reasonable nominal load is 8k? bottom is 4k?\n",
    "XDE60_ESS = op.ESS(motor_eff = .91, # @Gallet. No clear source on where these drivetrain, inverter, and motor efficiencies came from. Can't find TB200 specs yet.\n",
    "                   inverter_eff = .97, # @Gallet\n",
    "                   aux_eff = .89, # Assumption.\n",
    "                   regen_eff = .6, # Assumption.\n",
    "                   simple_load = 8000,\n",
    "                   max_regen = -200000 #w, finally, some good sourcable values.@XDE35_Manuals\n",
    "                   # W @Siemens_Traction_Motor\n",
    "                  )\n",
    "XDE60_ESS.save(ESS_directory + \"XDE60_ESS.txt\")"
   ]
  },
  {
   "cell_type": "code",
   "execution_count": 16,
   "id": "7d988a9a-f65e-4307-a7f7-ba87c40b1bc2",
   "metadata": {},
   "outputs": [
    {
     "data": {
      "text/plain": [
       "'./KC_Example_Data/Saved_Objects/ESSes/XT40_ESS.txt'"
      ]
     },
     "execution_count": 16,
     "metadata": {},
     "output_type": "execute_result"
    }
   ],
   "source": [
    "# XDE40/XT40 HEV version: \n",
    "XT40 =op.Bus(bus_mass = 13835, #kg, @NF_Xcelsior\n",
    "               frontal_width = 2.6, #m,@NF_Xcelsior\n",
    "               frontal_height = 3.3, #m, @NF_Xcelsior\n",
    "               drag_coeff = .7, # Unitless. Many suspect papers cite .6, but best bet was one citing ORNL bus database saying .79, @Gao_Et_Al\n",
    "               friction_coeff = .01, # unitless, otherwise known as rolling resistance. @Rolling_Resistance\n",
    "               braking_accel = 1.5, #1.5m/s^2, handbrake required to stop from 20 mph, over no set distance. emergency brake must be capable of up to 6.5m/s^2 (20 mph over 20 ft).@APTA_Braking_Standards\n",
    "               br_factor = .5, # driver braking aggression. Variable based on driver.\n",
    "               i_factor = 1.1, # unitless, accounts for wheels, driveshaft, etc, cited from @Gallet\n",
    "                               # however, there is no substantive explanation as to how it was calculated/obtained.\n",
    "               max_dist = 304.8, # m, expected stopping distance for a bust from 60 mph calculated from google map offramp length measurements of I-5.\n",
    "               a_prof_path =a_prof_path, # based on the Braunschweig drive cycle @NREL_Drive_Cycles\n",
    "               max_acc = .4, # m/s^2, chosen due to it being a decent extension of existing drive cycle. subject to change.\n",
    "               max_dt = .5, #s, timestep for that extension. \n",
    "               max_P = 246000 # W, @Siemens_Traction_Motor \n",
    "              )\n",
    "\n",
    "# Saving the object.\n",
    "XT40.save(bus_directory + \"XT40.txt\")\n",
    "\n",
    "\n",
    "# The XDE60 @Siemens_Traction_Motor\n",
    "# Cooling system: @E-Fan_Cooling\n",
    "# Approx 10080 watts at max cooling\n",
    "# HVAC system, @Thermoking_TE18\n",
    "# Approx 3k watts at max hvac\n",
    "# thus, a reasonable nominal load is 8k? bottom is 4k?\n",
    "XT40_ESS =  op.ESS(motor_eff = .91, # @Gallet. No clear source on where these drivetrain, inverter, and motor efficiencies came from. Can't find TB200 specs yet.\n",
    "                   inverter_eff = .97, # @Gallet\n",
    "                   aux_eff = .89, # Assumption.\n",
    "                   regen_eff = .6, # Assumption.\n",
    "                   simple_load = 8000,\n",
    "                   max_regen = -200000 #w, finally, some good sourcable values.@XDE35_Manual\n",
    "                   # W @Siemens_Traction_Motor\n",
    "                  )\n",
    "\n",
    "XT40_ESS.save(ESS_directory + \"XT40_ESS.txt\")"
   ]
  },
  {
   "cell_type": "code",
   "execution_count": 5,
   "id": "71e211d6-23ca-459c-bf7d-2e9ebeb15edf",
   "metadata": {},
   "outputs": [
    {
     "data": {
      "text/plain": [
       "633.5999999999999"
      ]
     },
     "execution_count": 5,
     "metadata": {},
     "output_type": "execute_result"
    }
   ],
   "source": [
    "12*3.3*16"
   ]
  },
  {
   "cell_type": "code",
   "execution_count": 6,
   "id": "2578c072-3ed1-464f-907e-675a9d80e81a",
   "metadata": {},
   "outputs": [],
   "source": [
    "import ast\n",
    "import random\n",
    "import numpy as np\n",
    "def optimizefunc(func, ranges):\n",
    "    '''\n",
    "    optimizefunc takes a function with n parameters, and a set of n ranges for each parameter,\n",
    "    and attempts to minimize the return value of the function. \n",
    "    '''\n",
    "    # Set seed for optimization randomization\n",
    "    random.seed(42)\n",
    "    \n",
    "    # Max iterations is 30\n",
    "    max_iterations=10000\n",
    "    iterations = 0\n",
    "    \n",
    "    rep_iterations = 0\n",
    "    # Get number of dimensions for hyper-triangle\n",
    "    ndim = 1+ len(ranges)\n",
    "    \n",
    "    # Dictionary for the points\n",
    "    point_dict = {}\n",
    "    lowest_max = (9999, 0)\n",
    "    # render the first point set, this could be done with multiprocessing\n",
    "    for i in range(ndim):\n",
    "        args = []\n",
    "        for j in range(len(ranges)):\n",
    "            #print(ranges[j])\n",
    "            arg = random.uniform(*ranges[j])\n",
    "            args.append(arg)\n",
    "        result = func(*tuple(args))\n",
    "        point_dict[str(args)]=result\n",
    "\n",
    "    # Loop the number of times specified\n",
    "    while iterations < max_iterations:\n",
    "        \n",
    "        print(\"Evaluating literals...\", end='\\r')\n",
    "        \n",
    "        # get the furthest point's parameters\n",
    "        furthest_pt = ast.literal_eval(max(point_dict, key=point_dict.get))\n",
    "        furthest_val = point_dict[max(point_dict, key=point_dict.get)]\n",
    "        \n",
    "        # Check if the lowest max value is higher than the current\n",
    "        if furthest_val < lowest_max[0]:\n",
    "            lowest_max = (furthest_val, furthest_pt)\n",
    "\n",
    "        # remove it from the dict\n",
    "        del point_dict[max(point_dict, key=point_dict.get)]\n",
    "        \n",
    "        print(\"Loading hyperplane params...\", end='\\r')\n",
    "        # get the vectors for the hyperplane\n",
    "        hyperplane_vectors = list(point_dict.keys())\n",
    "        \n",
    "        # Convert them to actual vectors\n",
    "        for i in range(len(hyperplane_vectors)):\n",
    "            hyperplane_vectors[i] = ast.literal_eval(hyperplane_vectors[i])\n",
    "        \n",
    "        print(\"Calculating hyperplane...\", end='\\r')\n",
    "        # get the hyperplane equation\n",
    "        hyperplane_eqn = 0\n",
    "        try:\n",
    "            \n",
    "            hyperplane_eqn = np.linalg.solve(hyperplane_vectors, [-1]*len(hyperplane_vectors))\n",
    "        except:\n",
    "            print(min(point_dict, key=point_dict.get), point_dict[min(point_dict, key=point_dict.get)])\n",
    "            break\n",
    "        \n",
    "        print(\"Evaluating hyperplane normal...\", end='\\r')\n",
    "        # get the hyperplane normal\n",
    "        hyperplane_normal_len = np.sqrt(sum(np.square(hyperplane_eqn)))\n",
    "        \n",
    "        # get the normalized hyperplane vector\n",
    "        normalized_vector = hyperplane_eqn/hyperplane_normal_len\n",
    "        \n",
    "        print(\"Calculating Mirror Point...\", end='\\r')\n",
    "        # Get the sign distance for the furthest point\n",
    "        signdist = sum(normalized_vector*furthest_pt)\n",
    "        \n",
    "        # Get the mirrored version of that point\n",
    "        mirrorpt = furthest_pt -2*normalized_vector*signdist\n",
    "        \n",
    "        mirrorpt = ensure_in_range(mirrorpt, ranges)\n",
    "        \n",
    "        print(\"Calculating Centroid...\", end='\\r')\n",
    "        # Calculate the centroid of the hyperplane and mirror\n",
    "        centroid = (sum([np.asarray(ls) for ls in hyperplane_vectors]) + mirrorpt)/(len(hyperplane_vectors)+1)\n",
    "        centroid = ensure_in_range(centroid, ranges)\n",
    "        \n",
    "        print(\"Running Mirror Point...\", end='\\r')\n",
    "        # run the function with the mirror and the centroid\n",
    "        mir = func(*mirrorpt)\n",
    "        print(\"Running Centroid Point...\", end='\\r')\n",
    "        cent = func(*centroid)\n",
    "        \n",
    "        # if the mirror result is lower than the centroid, keep it\n",
    "        if mir < cent:\n",
    "            point_dict[str(mirrorpt.tolist())] = mir\n",
    "            \n",
    "        # otherwise, keep the centroid result\n",
    "        else:\n",
    "            point_dict[str(centroid.tolist())] = cent\n",
    "        \n",
    "        if point_dict[max(point_dict, key=point_dict.get)] == furthest_val:\n",
    "            rep_iterations += 1\n",
    "        \n",
    "        if rep_iterations > 2: \n",
    "            closest_key = min(point_dict, key=point_dict.get)\n",
    "            closest_val = point_dict[closest_key]\n",
    "            point_dict = {}\n",
    "            point_dict[closest_key] = closest_val\n",
    "            for i in range(ndim-1):\n",
    "                args = []\n",
    "                for j in range(len(ranges)):\n",
    "                    #print(ranges[j])\n",
    "                    arg = random.uniform(*ranges[j])\n",
    "                    args.append(arg)\n",
    "                result = func(*tuple(args))\n",
    "                point_dict[str(args)]=result\n",
    "            rep_iterations = 0\n",
    "        # update iterations. \n",
    "        #print(iterations, point_dict[min(point_dict, key=point_dict.get)], point_dict[max(point_dict, key=point_dict.get)])\n",
    "        iterations+=1\n",
    "    \n",
    "    # return the lowest value parameter set found. \n",
    "    print(lowest_max)\n",
    "    return min(point_dict, key=point_dict.get), point_dict[min(point_dict, key=point_dict.get)]\n",
    "\n",
    "def ensure_in_range(point, point_bounds):\n",
    "    '''\n",
    "    verifies that a point in n dimensions lies within the n bounds [(min, max) * n],\n",
    "    and if it isnt, set the point to be within the bounds.\n",
    "    '''\n",
    "    for i in range(len(point)):\n",
    "        param_bounds = point_bounds[i]\n",
    "        if point[i] < min(param_bounds):\n",
    "            point[i] = min(param_bounds)\n",
    "        elif point[i]> max(param_bounds):\n",
    "            point[i] = max(param_bounds)\n",
    "        else:\n",
    "            point[i]=point[i]\n",
    "    return point\n",
    "\n",
    "def rsq(a, b):\n",
    "    '''\n",
    "    returns the r^2 value between two datasets\n",
    "    '''\n",
    "    # a is the raw data, b is the model\n",
    "    ssres = ((a - b)**2).sum() \n",
    "    sstot = ((a-a.mean())**2).sum()\n",
    "    r2 = 1 - (ssres/sstot)\n",
    "    return r2"
   ]
  },
  {
   "cell_type": "code",
   "execution_count": 17,
   "id": "4ecc9908-78d8-4a91-9975-755a6214561b",
   "metadata": {
    "tags": []
   },
   "outputs": [],
   "source": [
    "# XDE35 BEV version: \n",
    "def find_SP(s1, p1, s2, p2):\n",
    "    XDE35 = op.Bus(bus_mass = 13920, #kg, @NF_Xcelsior\n",
    "                   frontal_width = 2.6, #m,@NF_Xcelsior\n",
    "                   frontal_height = 3.38, #m, @NF_Xcelsior\n",
    "                   drag_coeff = .79, # Unitless. Many suspect papers cite .6, but best bet was one citing ORNL bus database saying .79, @Gao_Et_Al\n",
    "                   friction_coeff = .01, # unitless, otherwise known as rolling resistance. @Rolling_Resistance\n",
    "                   braking_accel = 1.5, #1.5m/s^2, handbrake required to stop from 20 mph, over no set distance. emergency brake must be capable of up to 6.5m/s^2 (20 mph over 20 ft).@APTA_Braking_Standards\n",
    "                   br_factor = .5, # driver braking aggression. Variable based on driver.\n",
    "                   i_factor = 1.1, # unitless, accounts for wheels, driveshaft, etc, cited from @Gallet\n",
    "                                   # however, there is no substantive explanation as to how it was calculated/obtained.\n",
    "                   max_dist = 304.8, # m, expected stopping distance for a bust from 60 mph calculated from google map offramp length measurements of I-5.\n",
    "                   a_prof_path =a_prof_path, # based on the Braunschweig drive cycle @NREL_Drive_Cycles\n",
    "                   max_acc = .4, # m/s^2, chosen due to it being a decent extension of existing drive cycle. subject to change.\n",
    "                   max_dt = .5, #s, timestep for that extension. \n",
    "                   max_P = 300000 # W, @Siemens_Traction_Motor \n",
    "                  )\n",
    "\n",
    "    # Saving the object.\n",
    "    XDE35.save(bus_directory + \"XDE35.txt\")\n",
    "\n",
    "\n",
    "    # The XDE35 uses the @Siemens_Traction_Motor\n",
    "    # Cooling system: @E-Fan_Cooling\n",
    "    # Approx 10080 watts at max cooling\n",
    "    # HVAC system, @Thermoking_TE18\n",
    "    # Approx 3k watts at max hvac\n",
    "    # thus, a reasonable nominal load is 8k? bottom is 4k?\n",
    "    XDE35_ESS = op.ESS(motor_eff = .91, # @Gallet. No clear source on where these drivetrain, inverter, and motor efficiencies came from. Can't find TB200 specs yet.\n",
    "                       inverter_eff = .97, # @Gallet\n",
    "                       aux_eff = .89, # Assumption.\n",
    "                       regen_eff = .6, # Assumption.\n",
    "                       simple_load = 8000,\n",
    "                       max_regen = -200000, #w, finally, some good sourcable values.@XDE35_Manual\n",
    "                       module_struct = (s1,p1),\n",
    "                       bus_struct = (s2,p2)\n",
    "                       # W @Siemens_Traction_Motor\n",
    "                      )\n",
    "    #print(XDE35_ESS.bus_E_cap()/1000)\n",
    "    XDE35_ESS.save(ESS_directory + \"XDE35_ESS.txt\")\n",
    "    #rint(XDE35_ESS.bus_E_cap())\n",
    "    return (XDE35_ESS.bus_E_cap()/1000 - 520)**2 / (XDE35_ESS.bus_E_cap()/1000 - XDE35_ESS.bus_E_cap()/1000**2)\n",
    "    "
   ]
  },
  {
   "cell_type": "code",
   "execution_count": 7,
   "id": "3c56d205-a37d-45d7-945a-31f833094834",
   "metadata": {},
   "outputs": [
    {
     "name": "stdout",
     "output_type": "stream",
     "text": [
      "Running Mirror Point...t...l..."
     ]
    },
    {
     "name": "stderr",
     "output_type": "stream",
     "text": [
      "\n",
      "KeyboardInterrupt\n",
      "\n"
     ]
    },
    {
     "ename": "KeyboardInterrupt",
     "evalue": "",
     "output_type": "error",
     "traceback": [
      "\u001b[31m---------------------------------------------------------------------------\u001b[39m",
      "\u001b[31mKeyboardInterrupt\u001b[39m                         Traceback (most recent call last)",
      "\u001b[36mFile \u001b[39m\u001b[32m~\\anaconda3\\envs\\reRoute_Dynamics_test\\Lib\\site-packages\\IPython\\core\\async_helpers.py:128\u001b[39m, in \u001b[36m_pseudo_sync_runner\u001b[39m\u001b[34m(coro)\u001b[39m\n\u001b[32m    120\u001b[39m \u001b[38;5;250m\u001b[39m\u001b[33;03m\"\"\"\u001b[39;00m\n\u001b[32m    121\u001b[39m \u001b[33;03mA runner that does not really allow async execution, and just advance the coroutine.\u001b[39;00m\n\u001b[32m    122\u001b[39m \n\u001b[32m   (...)\u001b[39m\u001b[32m    125\u001b[39m \u001b[33;03mCredit to Nathaniel Smith\u001b[39;00m\n\u001b[32m    126\u001b[39m \u001b[33;03m\"\"\"\u001b[39;00m\n\u001b[32m    127\u001b[39m \u001b[38;5;28;01mtry\u001b[39;00m:\n\u001b[32m--> \u001b[39m\u001b[32m128\u001b[39m     \u001b[43mcoro\u001b[49m\u001b[43m.\u001b[49m\u001b[43msend\u001b[49m\u001b[43m(\u001b[49m\u001b[38;5;28;43;01mNone\u001b[39;49;00m\u001b[43m)\u001b[49m\n\u001b[32m    129\u001b[39m \u001b[38;5;28;01mexcept\u001b[39;00m \u001b[38;5;167;01mStopIteration\u001b[39;00m \u001b[38;5;28;01mas\u001b[39;00m exc:\n\u001b[32m    130\u001b[39m     \u001b[38;5;28;01mreturn\u001b[39;00m exc.value\n",
      "\u001b[36mFile \u001b[39m\u001b[32m~\\anaconda3\\envs\\reRoute_Dynamics_test\\Lib\\site-packages\\IPython\\core\\interactiveshell.py:3381\u001b[39m, in \u001b[36mInteractiveShell.run_cell_async\u001b[39m\u001b[34m(self, raw_cell, store_history, silent, shell_futures, transformed_cell, preprocessing_exc_tuple, cell_id)\u001b[39m\n\u001b[32m   3377\u001b[39m exec_count = \u001b[38;5;28mself\u001b[39m.execution_count\n\u001b[32m   3378\u001b[39m \u001b[38;5;28;01mif\u001b[39;00m result.error_in_exec:\n\u001b[32m   3379\u001b[39m     \u001b[38;5;66;03m# Store formatted traceback and error details\u001b[39;00m\n\u001b[32m   3380\u001b[39m     \u001b[38;5;28mself\u001b[39m.history_manager.exceptions[exec_count] = (\n\u001b[32m-> \u001b[39m\u001b[32m3381\u001b[39m         \u001b[38;5;28;43mself\u001b[39;49m\u001b[43m.\u001b[49m\u001b[43m_format_exception_for_storage\u001b[49m\u001b[43m(\u001b[49m\u001b[43mresult\u001b[49m\u001b[43m.\u001b[49m\u001b[43merror_in_exec\u001b[49m\u001b[43m)\u001b[49m\n\u001b[32m   3382\u001b[39m     )\n\u001b[32m   3384\u001b[39m \u001b[38;5;66;03m# Each cell is a *single* input, regardless of how many lines it has\u001b[39;00m\n\u001b[32m   3385\u001b[39m \u001b[38;5;28mself\u001b[39m.execution_count += \u001b[32m1\u001b[39m\n",
      "\u001b[36mFile \u001b[39m\u001b[32m~\\anaconda3\\envs\\reRoute_Dynamics_test\\Lib\\site-packages\\IPython\\core\\interactiveshell.py:3435\u001b[39m, in \u001b[36mInteractiveShell._format_exception_for_storage\u001b[39m\u001b[34m(self, exception, filename, running_compiled_code)\u001b[39m\n\u001b[32m   3432\u001b[39m         stb = evalue._render_traceback_()\n\u001b[32m   3433\u001b[39m     \u001b[38;5;28;01melse\u001b[39;00m:\n\u001b[32m   3434\u001b[39m         \u001b[38;5;66;03m# Otherwise, use InteractiveTB to format the traceback.\u001b[39;00m\n\u001b[32m-> \u001b[39m\u001b[32m3435\u001b[39m         stb = \u001b[38;5;28;43mself\u001b[39;49m\u001b[43m.\u001b[49m\u001b[43mInteractiveTB\u001b[49m\u001b[43m.\u001b[49m\u001b[43mstructured_traceback\u001b[49m\u001b[43m(\u001b[49m\n\u001b[32m   3436\u001b[39m \u001b[43m            \u001b[49m\u001b[43metype\u001b[49m\u001b[43m,\u001b[49m\u001b[43m \u001b[49m\u001b[43mevalue\u001b[49m\u001b[43m,\u001b[49m\u001b[43m \u001b[49m\u001b[43mtb\u001b[49m\u001b[43m,\u001b[49m\u001b[43m \u001b[49m\u001b[43mtb_offset\u001b[49m\u001b[43m=\u001b[49m\u001b[32;43m1\u001b[39;49m\n\u001b[32m   3437\u001b[39m \u001b[43m        \u001b[49m\u001b[43m)\u001b[49m\n\u001b[32m   3438\u001b[39m \u001b[38;5;28;01mexcept\u001b[39;00m \u001b[38;5;167;01mException\u001b[39;00m:\n\u001b[32m   3439\u001b[39m     \u001b[38;5;66;03m# In case formatting fails, fallback to Python's built-in formatting.\u001b[39;00m\n\u001b[32m   3440\u001b[39m     stb = traceback.format_exception(etype, evalue, tb)\n",
      "\u001b[36mFile \u001b[39m\u001b[32m~\\anaconda3\\envs\\reRoute_Dynamics_test\\Lib\\site-packages\\IPython\\core\\ultratb.py:1182\u001b[39m, in \u001b[36mAutoFormattedTB.structured_traceback\u001b[39m\u001b[34m(self, etype, evalue, etb, tb_offset, context)\u001b[39m\n\u001b[32m   1180\u001b[39m \u001b[38;5;28;01melse\u001b[39;00m:\n\u001b[32m   1181\u001b[39m     \u001b[38;5;28mself\u001b[39m.tb = etb\n\u001b[32m-> \u001b[39m\u001b[32m1182\u001b[39m \u001b[38;5;28;01mreturn\u001b[39;00m \u001b[43mFormattedTB\u001b[49m\u001b[43m.\u001b[49m\u001b[43mstructured_traceback\u001b[49m\u001b[43m(\u001b[49m\n\u001b[32m   1183\u001b[39m \u001b[43m    \u001b[49m\u001b[38;5;28;43mself\u001b[39;49m\u001b[43m,\u001b[49m\u001b[43m \u001b[49m\u001b[43metype\u001b[49m\u001b[43m,\u001b[49m\u001b[43m \u001b[49m\u001b[43mevalue\u001b[49m\u001b[43m,\u001b[49m\u001b[43m \u001b[49m\u001b[43metb\u001b[49m\u001b[43m,\u001b[49m\u001b[43m \u001b[49m\u001b[43mtb_offset\u001b[49m\u001b[43m,\u001b[49m\u001b[43m \u001b[49m\u001b[43mcontext\u001b[49m\n\u001b[32m   1184\u001b[39m \u001b[43m\u001b[49m\u001b[43m)\u001b[49m\n",
      "\u001b[36mFile \u001b[39m\u001b[32m~\\anaconda3\\envs\\reRoute_Dynamics_test\\Lib\\site-packages\\IPython\\core\\ultratb.py:1053\u001b[39m, in \u001b[36mFormattedTB.structured_traceback\u001b[39m\u001b[34m(self, etype, evalue, etb, tb_offset, context)\u001b[39m\n\u001b[32m   1050\u001b[39m mode = \u001b[38;5;28mself\u001b[39m.mode\n\u001b[32m   1051\u001b[39m \u001b[38;5;28;01mif\u001b[39;00m mode \u001b[38;5;129;01min\u001b[39;00m \u001b[38;5;28mself\u001b[39m.verbose_modes:\n\u001b[32m   1052\u001b[39m     \u001b[38;5;66;03m# Verbose modes need a full traceback\u001b[39;00m\n\u001b[32m-> \u001b[39m\u001b[32m1053\u001b[39m     \u001b[38;5;28;01mreturn\u001b[39;00m \u001b[43mVerboseTB\u001b[49m\u001b[43m.\u001b[49m\u001b[43mstructured_traceback\u001b[49m\u001b[43m(\u001b[49m\n\u001b[32m   1054\u001b[39m \u001b[43m        \u001b[49m\u001b[38;5;28;43mself\u001b[39;49m\u001b[43m,\u001b[49m\u001b[43m \u001b[49m\u001b[43metype\u001b[49m\u001b[43m,\u001b[49m\u001b[43m \u001b[49m\u001b[43mevalue\u001b[49m\u001b[43m,\u001b[49m\u001b[43m \u001b[49m\u001b[43metb\u001b[49m\u001b[43m,\u001b[49m\u001b[43m \u001b[49m\u001b[43mtb_offset\u001b[49m\u001b[43m,\u001b[49m\u001b[43m \u001b[49m\u001b[43mcontext\u001b[49m\n\u001b[32m   1055\u001b[39m \u001b[43m    \u001b[49m\u001b[43m)\u001b[49m\n\u001b[32m   1056\u001b[39m \u001b[38;5;28;01melif\u001b[39;00m mode == \u001b[33m\"\u001b[39m\u001b[33mDocs\u001b[39m\u001b[33m\"\u001b[39m:\n\u001b[32m   1057\u001b[39m     \u001b[38;5;66;03m# return DocTB\u001b[39;00m\n\u001b[32m   1058\u001b[39m     \u001b[38;5;28;01mreturn\u001b[39;00m DocTB(\n\u001b[32m   1059\u001b[39m         theme_name=\u001b[38;5;28mself\u001b[39m._theme_name,\n\u001b[32m   1060\u001b[39m         call_pdb=\u001b[38;5;28mself\u001b[39m.call_pdb,\n\u001b[32m   (...)\u001b[39m\u001b[32m   1068\u001b[39m         etype, evalue, etb, tb_offset, \u001b[32m1\u001b[39m\n\u001b[32m   1069\u001b[39m     )  \u001b[38;5;66;03m# type: ignore[arg-type]\u001b[39;00m\n",
      "\u001b[36mFile \u001b[39m\u001b[32m~\\anaconda3\\envs\\reRoute_Dynamics_test\\Lib\\site-packages\\IPython\\core\\ultratb.py:861\u001b[39m, in \u001b[36mVerboseTB.structured_traceback\u001b[39m\u001b[34m(self, etype, evalue, etb, tb_offset, context)\u001b[39m\n\u001b[32m    852\u001b[39m \u001b[38;5;28;01mdef\u001b[39;00m\u001b[38;5;250m \u001b[39m\u001b[34mstructured_traceback\u001b[39m(\n\u001b[32m    853\u001b[39m     \u001b[38;5;28mself\u001b[39m,\n\u001b[32m    854\u001b[39m     etype: \u001b[38;5;28mtype\u001b[39m,\n\u001b[32m   (...)\u001b[39m\u001b[32m    858\u001b[39m     context: \u001b[38;5;28mint\u001b[39m = \u001b[32m5\u001b[39m,\n\u001b[32m    859\u001b[39m ) -> \u001b[38;5;28mlist\u001b[39m[\u001b[38;5;28mstr\u001b[39m]:\n\u001b[32m    860\u001b[39m \u001b[38;5;250m    \u001b[39m\u001b[33;03m\"\"\"Return a nice text document describing the traceback.\"\"\"\u001b[39;00m\n\u001b[32m--> \u001b[39m\u001b[32m861\u001b[39m     formatted_exceptions: \u001b[38;5;28mlist\u001b[39m[\u001b[38;5;28mlist\u001b[39m[\u001b[38;5;28mstr\u001b[39m]] = \u001b[38;5;28;43mself\u001b[39;49m\u001b[43m.\u001b[49m\u001b[43mformat_exception_as_a_whole\u001b[49m\u001b[43m(\u001b[49m\n\u001b[32m    862\u001b[39m \u001b[43m        \u001b[49m\u001b[43metype\u001b[49m\u001b[43m,\u001b[49m\u001b[43m \u001b[49m\u001b[43mevalue\u001b[49m\u001b[43m,\u001b[49m\u001b[43m \u001b[49m\u001b[43metb\u001b[49m\u001b[43m,\u001b[49m\u001b[43m \u001b[49m\u001b[43mcontext\u001b[49m\u001b[43m,\u001b[49m\u001b[43m \u001b[49m\u001b[43mtb_offset\u001b[49m\n\u001b[32m    863\u001b[39m \u001b[43m    \u001b[49m\u001b[43m)\u001b[49m\n\u001b[32m    865\u001b[39m     termsize = \u001b[38;5;28mmin\u001b[39m(\u001b[32m75\u001b[39m, get_terminal_size()[\u001b[32m0\u001b[39m])\n\u001b[32m    866\u001b[39m     theme = theme_table[\u001b[38;5;28mself\u001b[39m._theme_name]\n",
      "\u001b[36mFile \u001b[39m\u001b[32m~\\anaconda3\\envs\\reRoute_Dynamics_test\\Lib\\site-packages\\IPython\\core\\ultratb.py:746\u001b[39m, in \u001b[36mVerboseTB.format_exception_as_a_whole\u001b[39m\u001b[34m(self, etype, evalue, etb, context, tb_offset)\u001b[39m\n\u001b[32m    744\u001b[39m \u001b[38;5;28;01massert\u001b[39;00m \u001b[38;5;28misinstance\u001b[39m(tb_offset, \u001b[38;5;28mint\u001b[39m)\n\u001b[32m    745\u001b[39m head = \u001b[38;5;28mself\u001b[39m.prepare_header(\u001b[38;5;28mstr\u001b[39m(etype), \u001b[38;5;28mself\u001b[39m.long_header)\n\u001b[32m--> \u001b[39m\u001b[32m746\u001b[39m records = \u001b[38;5;28;43mself\u001b[39;49m\u001b[43m.\u001b[49m\u001b[43mget_records\u001b[49m\u001b[43m(\u001b[49m\u001b[43metb\u001b[49m\u001b[43m,\u001b[49m\u001b[43m \u001b[49m\u001b[43mcontext\u001b[49m\u001b[43m,\u001b[49m\u001b[43m \u001b[49m\u001b[43mtb_offset\u001b[49m\u001b[43m)\u001b[49m \u001b[38;5;28;01mif\u001b[39;00m etb \u001b[38;5;28;01melse\u001b[39;00m []\n\u001b[32m    748\u001b[39m frames = []\n\u001b[32m    749\u001b[39m skipped = \u001b[32m0\u001b[39m\n",
      "\u001b[36mFile \u001b[39m\u001b[32m~\\anaconda3\\envs\\reRoute_Dynamics_test\\Lib\\site-packages\\IPython\\core\\ultratb.py:829\u001b[39m, in \u001b[36mVerboseTB.get_records\u001b[39m\u001b[34m(self, etb, context, tb_offset)\u001b[39m\n\u001b[32m    826\u001b[39m     max_len = get_line_number_of_frame(cf.tb_frame)\n\u001b[32m    828\u001b[39m \u001b[38;5;28;01mexcept\u001b[39;00m \u001b[38;5;167;01mOSError\u001b[39;00m:\n\u001b[32m--> \u001b[39m\u001b[32m829\u001b[39m     max_len = \u001b[32m0\u001b[39m\n\u001b[32m    830\u001b[39m max_len = \u001b[38;5;28mmax\u001b[39m(max_len, max_len)\n\u001b[32m    831\u001b[39m tbs.append(cf)\n",
      "\u001b[31mKeyboardInterrupt\u001b[39m: "
     ]
    }
   ],
   "source": [
    "optimizefunc(find_SP, [(12, 13), (8, 9), (16, 17), (1, 100)])"
   ]
  },
  {
   "cell_type": "code",
   "execution_count": 18,
   "id": "f4b03be5-57bc-4933-a423-f3e0a88e2216",
   "metadata": {},
   "outputs": [
    {
     "data": {
      "text/plain": [
       "88.79460849500127"
      ]
     },
     "execution_count": 18,
     "metadata": {},
     "output_type": "execute_result"
    }
   ],
   "source": [
    "find_SP(12.386325019920218, 7.302245601136856, 16.0, 31.413773426909547)"
   ]
  },
  {
   "cell_type": "code",
   "execution_count": 19,
   "id": "459ef3e1-7205-45e7-b2e6-ee890969638c",
   "metadata": {
    "tags": []
   },
   "outputs": [
    {
     "data": {
      "text/plain": [
       "'./KC_Example_Data/Saved_Objects/ESSes/XDE60_ESS.txt'"
      ]
     },
     "execution_count": 19,
     "metadata": {},
     "output_type": "execute_result"
    }
   ],
   "source": [
    "# XDE60 BEV version: \n",
    "XDE60 = op.Bus(bus_mass = 20638, #kg, @NF_Xcelsior\n",
    "               frontal_width = 2.6, #m,@NF_Xcelsior\n",
    "               frontal_height = 3.38, #m, @NF_Xcelsior\n",
    "               drag_coeff = .7, # Unitless. Many suspect papers cite .6, but best bet was one citing ORNL bus database saying .79, @Gao_Et_Al\n",
    "               friction_coeff = .01, # unitless, otherwise known as rolling resistance. @Rolling_Resistance\n",
    "               braking_accel = 1.5, #1.5m/s^2, handbrake required to stop from 20 mph, over no set distance. emergency brake must be capable of up to 6.5m/s^2 (20 mph over 20 ft).@APTA_Braking_Standards\n",
    "               br_factor = .5, # driver braking aggression. Variable based on driver.\n",
    "               i_factor = 1.1, # unitless, accounts for wheels, driveshaft, etc, cited from @Gallet\n",
    "                               # however, there is no substantive explanation as to how it was calculated/obtained.\n",
    "               max_dist = 304.8, # m, expected stopping distance for a bust from 60 mph calculated from google map offramp length measurements of I-5.\n",
    "               a_prof_path =a_prof_path, # based on the Braunschweig drive cycle @NREL_Drive_Cycles\n",
    "               max_acc = .4, # m/s^2, chosen due to it being a decent extension of existing drive cycle. subject to change.\n",
    "               max_dt = .5, #s, timestep for that extension. \n",
    "               max_P = 300000 # W, @Siemens_Traction_Motor \n",
    "              )\n",
    "\n",
    "# Saving the object.\n",
    "XDE60.save(bus_directory + \"XDE60.txt\")\n",
    "\n",
    "\n",
    "# The XDE60 @Siemens_Traction_Motor\n",
    "# Cooling system: @E-Fan_Cooling\n",
    "# Approx 10080 watts at max cooling\n",
    "# HVAC system, @Thermoking_TE18\n",
    "# Approx 3k watts at max hvac\n",
    "# thus, a reasonable nominal load is 8k? bottom is 4k?\n",
    "XDE60_ESS = op.ESS(motor_eff = .93, # @Gallet. No clear source on where these drivetrain, inverter, and motor efficiencies came from. Can't find TB200 specs yet.\n",
    "                   inverter_eff = .88, # @Gallet\n",
    "                   aux_eff = .89, # Assumption.\n",
    "                   regen_eff = .54, # Assumption.\n",
    "                   simple_load = 8000,\n",
    "                   max_regen = -200000, #w, finally, some good sourcable values.@XDE35_Manual\n",
    "                   module_struct = (12,8),\n",
    "                   bus_struct = (16,40)\n",
    "                   \n",
    "                   # W @Siemens_Traction_Motor\n",
    "                  )\n",
    "XDE60_ESS.save(ESS_directory + \"XDE60_ESS.txt\")"
   ]
  },
  {
   "cell_type": "code",
   "execution_count": 20,
   "id": "a4a8acb3-bf23-455a-96dc-9a6791110fac",
   "metadata": {},
   "outputs": [
    {
     "data": {
      "text/plain": [
       "'./KC_Example_Data/Saved_Objects/ESSes/XDE40_ESS.txt'"
      ]
     },
     "execution_count": 20,
     "metadata": {},
     "output_type": "execute_result"
    }
   ],
   "source": [
    "# XDE40/XT40 BEV version: \n",
    "XDE40 =op.Bus(bus_mass = 13835, #kg, @NF_Xcelsior\n",
    "                      frontal_width = 2.6, #m,@NF_Xcelsior\n",
    "               frontal_height = 3.38, #m, @NF_Xcelsior\n",
    "               drag_coeff = .7, # Unitless. Many suspect papers cite .6, but best bet was one citing ORNL bus database saying .79, @Gao_Et_Al\n",
    "               friction_coeff = .01, # unitless, otherwise known as rolling resistance. @Rolling_Resistance\n",
    "               braking_accel = 1.5, #1.5m/s^2, handbrake required to stop from 20 mph, over no set distance. emergency brake must be capable of up to 6.5m/s^2 (20 mph over 20 ft).@APTA_Braking_Standards\n",
    "               br_factor = .5, # driver braking aggression. Variable based on driver.\n",
    "               i_factor = 1.1, # unitless, accounts for wheels, driveshaft, etc, cited from @Gallet\n",
    "                               # however, there is no substantive explanation as to how it was calculated/obtained.\n",
    "               max_dist = 304.8, # m, expected stopping distance for a bust from 60 mph calculated from google map offramp length measurements of I-5.\n",
    "               a_prof_path =a_prof_path, # based on the Braunschweig drive cycle @NREL_Drive_Cycles\n",
    "               max_acc = .4, # m/s^2, chosen due to it being a decent extension of existing drive cycle. subject to change.\n",
    "               max_dt = .5, #s, timestep for that extension. \n",
    "               max_P = 300000 # W, @Siemens_Traction_Motor \n",
    "              )\n",
    "\n",
    "\n",
    "# Saving the object.\n",
    "XDE40.save(bus_directory + \"XT40.txt\")\n",
    "XDE40.save(bus_directory + \"XDE40.txt\")\n",
    "\n",
    "\n",
    "# The XDE60 @Siemens_Traction_Motor\n",
    "# Cooling system: @E-Fan_Cooling\n",
    "# Approx 10080 watts at max cooling\n",
    "# HVAC system, @Thermoking_TE18\n",
    "# Approx 3k watts at max hvac\n",
    "# thus, a reasonable nominal load is 8k? bottom is 4k?\n",
    "XDE40_ESS =  op.ESS(motor_eff = .93, # @Gallet. No clear source on where these drivetrain, inverter, and motor efficiencies came from. Can't find TB200 specs yet.\n",
    "                   inverter_eff = .88, # @Gallet\n",
    "                   aux_eff = .89, # Assumption.\n",
    "                   regen_eff = .54, # Assumption.\n",
    "                   simple_load = 8000,\n",
    "                   max_regen = -200000, #w, finally, some good sourcable values.@XDE35_Manual\n",
    "                   module_struct = (12,8),\n",
    "                   bus_struct = (16,32)\n",
    "                   \n",
    "                   # W @Siemens_Traction_Motor\n",
    "                  )\n",
    "\n",
    "XDE40_ESS.save(ESS_directory + \"XT40_ESS.txt\")\n",
    "XDE40_ESS.save(ESS_directory + \"XDE40_ESS.txt\")"
   ]
  },
  {
   "cell_type": "code",
   "execution_count": 21,
   "id": "71e8d83c-ad3c-49e0-902b-c363d7e0cd2d",
   "metadata": {},
   "outputs": [
    {
     "data": {
      "text/plain": [
       "'./KC_Example_Data/Saved_Objects/ESSes/XDE35_ESS.txt'"
      ]
     },
     "execution_count": 21,
     "metadata": {},
     "output_type": "execute_result"
    }
   ],
   "source": [
    "# XDE35 BEV version: \n",
    "XDE35 =op.Bus(bus_mass = 13920, #kg, @NF_Xcelsior\n",
    "                      frontal_width = 2.6, #m,@NF_Xcelsior\n",
    "               frontal_height = 3.38, #m, @NF_Xcelsior\n",
    "               drag_coeff = .7, # Unitless. Many suspect papers cite .6, but best bet was one citing ORNL bus database saying .79, @Gao_Et_Al\n",
    "               friction_coeff = .01, # unitless, otherwise known as rolling resistance. @Rolling_Resistance\n",
    "               braking_accel = 1.5, #1.5m/s^2, handbrake required to stop from 20 mph, over no set distance. emergency brake must be capable of up to 6.5m/s^2 (20 mph over 20 ft).@APTA_Braking_Standards\n",
    "               br_factor = .5, # driver braking aggression. Variable based on driver.\n",
    "               i_factor = 1.1, # unitless, accounts for wheels, driveshaft, etc, cited from @Gallet\n",
    "                               # however, there is no substantive explanation as to how it was calculated/obtained.\n",
    "               max_dist = 304.8, # m, expected stopping distance for a bust from 60 mph calculated from google map offramp length measurements of I-5.\n",
    "               a_prof_path =a_prof_path, # based on the Braunschweig drive cycle @NREL_Drive_Cycles\n",
    "               max_acc = .4, # m/s^2, chosen due to it being a decent extension of existing drive cycle. subject to change.\n",
    "               max_dt = .5, #s, timestep for that extension. \n",
    "               max_P = 300000 # W, @Siemens_Traction_Motor \n",
    "              )\n",
    "\n",
    "\n",
    "# Saving the object.\n",
    "\n",
    "XDE35.save(bus_directory + \"XDE35.txt\")\n",
    "\n",
    "\n",
    "# The XDE60 @Siemens_Traction_Motor\n",
    "# Cooling system: @E-Fan_Cooling\n",
    "# Approx 10080 watts at max cooling\n",
    "# HVAC system, @Thermoking_TE18\n",
    "# Approx 3k watts at max hvac\n",
    "# thus, a reasonable nominal load is 8k? bottom is 4k?\n",
    "XDE35_ESS =  op.ESS(motor_eff = .93, # @Gallet. No clear source on where these drivetrain, inverter, and motor efficiencies came from. Can't find TB200 specs yet.\n",
    "                   inverter_eff = .88, # @Gallet\n",
    "                   aux_eff = .89, # Assumption.\n",
    "                   regen_eff = .54, # Assumption.\n",
    "                   simple_load = 8000,\n",
    "                   max_regen = -200000, #w, finally, some good sourcable values.@XDE35_Manual\n",
    "                   module_struct = (12,8),\n",
    "                   bus_struct = (16,32)\n",
    "                   \n",
    "                   # W @Siemens_Traction_Motor\n",
    "                  )\n",
    "\n",
    "\n",
    "XDE35_ESS.save(ESS_directory + \"XDE35_ESS.txt\")"
   ]
  },
  {
   "cell_type": "code",
   "execution_count": null,
   "id": "10224ec4-fb5d-42d1-8a3b-8de6f5d457fa",
   "metadata": {},
   "outputs": [],
   "source": []
  }
 ],
 "metadata": {
  "kernelspec": {
   "display_name": "Python 3 (ipykernel)",
   "language": "python",
   "name": "python3"
  },
  "language_info": {
   "codemirror_mode": {
    "name": "ipython",
    "version": 3
   },
   "file_extension": ".py",
   "mimetype": "text/x-python",
   "name": "python",
   "nbconvert_exporter": "python",
   "pygments_lexer": "ipython3",
   "version": "3.12.10"
  }
 },
 "nbformat": 4,
 "nbformat_minor": 5
}
