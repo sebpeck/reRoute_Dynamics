{
 "cells": [
  {
   "cell_type": "markdown",
   "id": "363e3d74-a5ea-43bc-bd16-917f4dc65728",
   "metadata": {
    "tags": []
   },
   "source": [
    "# Bus Model Information\n",
    "This notebook is intended to act as a location where values and sources for different bus, trip, and ESS models are stored. "
   ]
  },
  {
   "cell_type": "code",
   "execution_count": 1,
   "id": "79ccedef-1aef-4a34-86bf-a6c68fbe7f6e",
   "metadata": {
    "tags": []
   },
   "outputs": [],
   "source": [
    "# General Purpose:\n",
    "import sys\n",
    "sys.path.append(\"../src/reRoute_Dynamics_Core/\")\n",
    "import Object_Params as op\n",
    "bus_directory = \"./KC_Example_Data/Saved_Objects/Busses/\"\n",
    "trip_directory =  \"./KC_Example_Data/Saved_Objects/Trips/\"\n",
    "ESS_directory =  \"./KC_Example_Data/Saved_Objects/ESSes/\"\n",
    "\n",
    "a_prof_path = \"KC_Example_Data/Acceleration_Profiles/Braunschweig_Acceleration.csv\"#Interpolated from @NREL_Drive_Cylces"
   ]
  },
  {
   "cell_type": "code",
   "execution_count": 2,
   "id": "1a0ca02f-edf2-41fc-95fa-453bac84129f",
   "metadata": {
    "tags": []
   },
   "outputs": [
    {
     "data": {
      "text/plain": [
       "'./KC_Example_Data/Saved_Objects/Trips/base_seattle_trip.txt'"
      ]
     },
     "execution_count": 2,
     "metadata": {},
     "output_type": "execute_result"
    }
   ],
   "source": [
    "base_trip = op.Trip(pass_mass = 84, #kg, calculated from @CDC_Human_Mass\n",
    "                    limit_MOE = .15, # percent of the speed limit the value can be within. \n",
    "                    signal_rest = 65/2, # seconds, based on @WSDOT_Signals\n",
    "                    signal_chance = .541666, # fraction o fthe time the bus will hit a red light when passing a signal. This is calculated based on @WSDOT_Signals\n",
    "                    stop_rest = 7, # seconds per passenger boarding. This is a Guess. \n",
    "                    sign_rest = 7, # seconds. This is a guess of how long a bus will stop at a stop sign.\n",
    "                    end_rest = 10, # seconds.amount of time the bus rests at the beginning or end of a route before bus is turned off.\n",
    "                    air_density = 1.22, # based on seattle typical temperature of 12.7 degrees C. @Air_Density\n",
    "                    wind_speed = 1.78, #m/s, based on typical wind speed in seattle @Weatherspark_Seattle\n",
    "                    wind_heading = 'SE', #per @Weatherspark_Seattle\n",
    "                    temperature = 12.7, #deg C, per @Weatherspark_Seattle\n",
    "                    interp_length = 10, # meters, guess. \n",
    "                    mean_ridership = 3.5, # People. Back of napkin from @KC_Rider_Stats and other KCM route data\n",
    "                    seed = 42, # random seed, subject to change\n",
    "                    lg=43, #savgol param\n",
    "                    deg = 3, #savgol param\n",
    "                    stop_margin = 1 #m/s, margin for the velocity to be considered 'stopped'\n",
    "                   )\n",
    "base_trip.save(trip_directory+\"base_seattle_trip.txt\")"
   ]
  },
  {
   "cell_type": "code",
   "execution_count": 3,
   "id": "4ecc9908-78d8-4a91-9975-755a6214561b",
   "metadata": {
    "tags": []
   },
   "outputs": [
    {
     "data": {
      "text/plain": [
       "'./KC_Example_Data/Saved_Objects/ESSes/XDE35_ESS.txt'"
      ]
     },
     "execution_count": 3,
     "metadata": {},
     "output_type": "execute_result"
    }
   ],
   "source": [
    "# XDE35 BEV version: \n",
    "XDE35 = op.Bus(bus_mass = 13920, #kg, @NF_Xcelsior\n",
    "               frontal_width = 2.6, #m,@NF_Xcelsior\n",
    "               frontal_height = 3.38, #m, @NF_Xcelsior\n",
    "               drag_coeff = .79, # Unitless. Many suspect papers cite .6, but best bet was one citing ORNL bus database saying .79, @Gao_Et_Al\n",
    "               friction_coeff = .01, # unitless, otherwise known as rolling resistance. @Rolling_Resistance\n",
    "               braking_accel = 1.5, #1.5m/s^2, handbrake required to stop from 20 mph, over no set distance. emergency brake must be capable of up to 6.5m/s^2 (20 mph over 20 ft).@APTA_Braking_Standards\n",
    "               br_factor = .5, # driver braking aggression. Variable based on driver.\n",
    "               i_factor = 1.1, # unitless, accounts for wheels, driveshaft, etc, cited from @Gallet\n",
    "                               # however, there is no substantive explanation as to how it was calculated/obtained.\n",
    "               max_dist = 304.8, # m, expected stopping distance for a bust from 60 mph calculated from google map offramp length measurements of I-5.\n",
    "               a_prof_path =a_prof_path, # based on the Braunschweig drive cycle @NREL_Drive_Cycles\n",
    "               max_acc = .4, # m/s^2, chosen due to it being a decent extension of existing drive cycle. subject to change.\n",
    "               max_dt = .5, #s, timestep for that extension. \n",
    "               max_P = 300000 # W, @Siemens_Traction_Motor \n",
    "              )\n",
    "\n",
    "# Saving the object.\n",
    "XDE35.save(bus_directory + \"XDE35.txt\")\n",
    "\n",
    "\n",
    "# The XDE35 uses the @Siemens_Traction_Motor\n",
    "# Cooling system: @E-Fan_Cooling\n",
    "# Approx 10080 watts at max cooling\n",
    "# HVAC system, @Thermoking_TE18\n",
    "# Approx 3k watts at max hvac\n",
    "# thus, a reasonable nominal load is 8k? bottom is 4k?\n",
    "XDE35_ESS = op.ESS(motor_eff = .91, # @Gallet. No clear source on where these drivetrain, inverter, and motor efficiencies came from. Can't find TB200 specs yet.\n",
    "                   inverter_eff = .97, # @Gallet\n",
    "                   aux_eff = .89, # Assumption.\n",
    "                   regen_eff = .6, # Assumption.\n",
    "                   simple_load = 8000,\n",
    "                   max_regen = -200000 #w, finally, some good sourcable values.@XDE35_Manual\n",
    "                   # W @Siemens_Traction_Motor\n",
    "                  )\n",
    "\n",
    "XDE35_ESS.save(ESS_directory + \"XDE35_ESS.txt\")"
   ]
  },
  {
   "cell_type": "code",
   "execution_count": 4,
   "id": "459ef3e1-7205-45e7-b2e6-ee890969638c",
   "metadata": {
    "tags": []
   },
   "outputs": [
    {
     "data": {
      "text/plain": [
       "'./KC_Example_Data/Saved_Objects/ESSes/XDE60_ESS.txt'"
      ]
     },
     "execution_count": 4,
     "metadata": {},
     "output_type": "execute_result"
    }
   ],
   "source": [
    "# XDE60 BEV version: \n",
    "XDE60 = op.Bus(bus_mass = 20638, #kg, @NF_Xcelsior\n",
    "               frontal_width = 2.6, #m,@NF_Xcelsior\n",
    "               frontal_height = 3.38, #m, @NF_Xcelsior\n",
    "               drag_coeff = .79, # Unitless. Many suspect papers cite .6, but best bet was one citing ORNL bus database saying .79, @Gao_Et_Al\n",
    "               friction_coeff = .01, # unitless, otherwise known as rolling resistance. @Rolling_Resistance\n",
    "               braking_accel = 1.5, #1.5m/s^2, handbrake required to stop from 20 mph, over no set distance. emergency brake must be capable of up to 6.5m/s^2 (20 mph over 20 ft).@APTA_Braking_Standards\n",
    "               br_factor = .5, # driver braking aggression. Variable based on driver.\n",
    "               i_factor = 1.1, # unitless, accounts for wheels, driveshaft, etc, cited from @Gallet\n",
    "                               # however, there is no substantive explanation as to how it was calculated/obtained.\n",
    "               max_dist = 304.8, # m, expected stopping distance for a bust from 60 mph calculated from google map offramp length measurements of I-5.\n",
    "               a_prof_path =a_prof_path, # based on the Braunschweig drive cycle @NREL_Drive_Cycles\n",
    "               max_acc = .4, # m/s^2, chosen due to it being a decent extension of existing drive cycle. subject to change.\n",
    "               max_dt = .5, #s, timestep for that extension. \n",
    "               max_P = 300000 # W, @Siemens_Traction_Motor \n",
    "              )\n",
    "\n",
    "# Saving the object.\n",
    "XDE60.save(bus_directory + \"XDE60.txt\")\n",
    "\n",
    "\n",
    "# The XDE60 @Siemens_Traction_Motor\n",
    "# Cooling system: @E-Fan_Cooling\n",
    "# Approx 10080 watts at max cooling\n",
    "# HVAC system, @Thermoking_TE18\n",
    "# Approx 3k watts at max hvac\n",
    "# thus, a reasonable nominal load is 8k? bottom is 4k?\n",
    "XDE60_ESS = op.ESS(motor_eff = .91, # @Gallet. No clear source on where these drivetrain, inverter, and motor efficiencies came from. Can't find TB200 specs yet.\n",
    "                   inverter_eff = .97, # @Gallet\n",
    "                   aux_eff = .89, # Assumption.\n",
    "                   regen_eff = .6, # Assumption.\n",
    "                   simple_load = 8000,\n",
    "                   max_regen = -200000 #w, finally, some good sourcable values.@XDE35_Manual\n",
    "                   # W @Siemens_Traction_Motor\n",
    "                  )\n",
    "XDE60_ESS.save(ESS_directory + \"XDE60_ESS.txt\")"
   ]
  },
  {
   "cell_type": "code",
   "execution_count": 5,
   "id": "a4a8acb3-bf23-455a-96dc-9a6791110fac",
   "metadata": {},
   "outputs": [
    {
     "data": {
      "text/plain": [
       "'./KC_Example_Data/Saved_Objects/ESSes/XT40_ESS.txt'"
      ]
     },
     "execution_count": 5,
     "metadata": {},
     "output_type": "execute_result"
    }
   ],
   "source": [
    "# XDE40/XT40 BEV version: \n",
    "XDE40 =op.Bus(bus_mass = 13835, #kg, @NF_Xcelsior\n",
    "               frontal_width = 2.6, #m,@NF_Xcelsior\n",
    "               frontal_height = 3.2, #m, @NF_Xcelsior\n",
    "               drag_coeff = .79, # Unitless. Many suspect papers cite .6, but best bet was one citing ORNL bus database saying .79, @Gao_Et_Al\n",
    "               friction_coeff = .01, # unitless, otherwise known as rolling resistance. @Rolling_Resistance\n",
    "               braking_accel = 1.5, #1.5m/s^2, handbrake required to stop from 20 mph, over no set distance. emergency brake must be capable of up to 6.5m/s^2 (20 mph over 20 ft).@APTA_Braking_Standards\n",
    "               br_factor = .5, # driver braking aggression. Variable based on driver.\n",
    "               i_factor = 1.1, # unitless, accounts for wheels, driveshaft, etc, cited from @Gallet\n",
    "                               # however, there is no substantive explanation as to how it was calculated/obtained.\n",
    "               max_dist = 304.8, # m, expected stopping distance for a bust from 60 mph calculated from google map offramp length measurements of I-5.\n",
    "               a_prof_path =a_prof_path, # based on the Braunschweig drive cycle @NREL_Drive_Cycles\n",
    "               max_acc = .4, # m/s^2, chosen due to it being a decent extension of existing drive cycle. subject to change.\n",
    "               max_dt = .5, #s, timestep for that extension. \n",
    "               max_P = 300000 # W, @Siemens_Traction_Motor \n",
    "              )\n",
    "\n",
    "# Saving the object.\n",
    "XDE40.save(bus_directory + \"XT40.txt\")\n",
    "\n",
    "\n",
    "# The XDE60 @Siemens_Traction_Motor\n",
    "# Cooling system: @E-Fan_Cooling\n",
    "# Approx 10080 watts at max cooling\n",
    "# HVAC system, @Thermoking_TE18\n",
    "# Approx 3k watts at max hvac\n",
    "# thus, a reasonable nominal load is 8k? bottom is 4k?\n",
    "XDE40_ESS =  op.ESS(motor_eff = .91, # @Gallet. No clear source on where these drivetrain, inverter, and motor efficiencies came from. Can't find TB200 specs yet.\n",
    "                   inverter_eff = .97, # @Gallet\n",
    "                   aux_eff = .89, # Assumption.\n",
    "                   regen_eff = .6, # Assumption.\n",
    "                   simple_load = 8000,\n",
    "                   max_regen = -200000 #w, finally, some good sourcable values.@XDE35_Manual\n",
    "                   # W @Siemens_Traction_Motor\n",
    "                  )\n",
    "\n",
    "XDE40_ESS.save(ESS_directory + \"XT40_ESS.txt\")"
   ]
  },
  {
   "cell_type": "code",
   "execution_count": null,
   "id": "7d988a9a-f65e-4307-a7f7-ba87c40b1bc2",
   "metadata": {},
   "outputs": [],
   "source": []
  },
  {
   "cell_type": "code",
   "execution_count": null,
   "id": "71e8d83c-ad3c-49e0-902b-c363d7e0cd2d",
   "metadata": {},
   "outputs": [],
   "source": []
  }
 ],
 "metadata": {
  "kernelspec": {
   "display_name": "reRoute_Dynamics_test",
   "language": "python",
   "name": "reroute_dynamics_test"
  },
  "language_info": {
   "codemirror_mode": {
    "name": "ipython",
    "version": 3
   },
   "file_extension": ".py",
   "mimetype": "text/x-python",
   "name": "python",
   "nbconvert_exporter": "python",
   "pygments_lexer": "ipython3",
   "version": "3.12.10"
  }
 },
 "nbformat": 4,
 "nbformat_minor": 5
}
