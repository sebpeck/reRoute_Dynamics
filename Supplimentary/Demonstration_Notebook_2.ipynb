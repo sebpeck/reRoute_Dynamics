{
 "cells": [
  {
   "cell_type": "code",
   "execution_count": 1,
   "id": "292f323a-2d39-4c7b-9efb-4b732086205e",
   "metadata": {},
   "outputs": [
    {
     "data": {
      "text/plain": [
       "'\\nData Loading.\\n'"
      ]
     },
     "execution_count": 1,
     "metadata": {},
     "output_type": "execute_result"
    }
   ],
   "source": [
    "\"\"\"\n",
    "Data Loading.\n",
    "\"\"\""
   ]
  },
  {
   "cell_type": "code",
   "execution_count": 30,
   "id": "20dab802-991e-4926-afc5-1ed467252ed6",
   "metadata": {},
   "outputs": [],
   "source": [
    "import os\n",
    "import geopandas as gpd\n",
    "import pandas as pd\n",
    "import matplotlib.pyplot as plt"
   ]
  },
  {
   "cell_type": "code",
   "execution_count": 3,
   "id": "c6ceb996-0a4d-4e94-adc2-7527105577b1",
   "metadata": {},
   "outputs": [
    {
     "name": "stdout",
     "output_type": "stream",
     "text": [
      "CPU times: total: 39 s\n",
      "Wall time: 39.1 s\n"
     ]
    }
   ],
   "source": [
    "%%time\n",
    "stops_path = \"./Data/Transit_Stops/Transit_Stops_for_King_County_Metro__transitstop_point.shp\"\n",
    "stops = gpd.read_file(stops_path)"
   ]
  },
  {
   "cell_type": "code",
   "execution_count": 4,
   "id": "f03d704a-edb0-4ddd-b519-414cf7c69774",
   "metadata": {},
   "outputs": [
    {
     "name": "stdout",
     "output_type": "stream",
     "text": [
      "CPU times: total: 984 ms\n",
      "Wall time: 968 ms\n"
     ]
    }
   ],
   "source": [
    "%%time\n",
    "signals_path = \"./Data/Signals/KCM_signals.shp\"\n",
    "signals = gpd.read_file(signals_path)"
   ]
  },
  {
   "cell_type": "code",
   "execution_count": 5,
   "id": "e0b9f253-9e6a-4bf1-8eb9-20807295a9a5",
   "metadata": {},
   "outputs": [
    {
     "name": "stdout",
     "output_type": "stream",
     "text": [
      "CPU times: total: 2min 29s\n",
      "Wall time: 2min 29s\n"
     ]
    }
   ],
   "source": [
    "%%time\n",
    "kc_streets_path = \"./Data/Seattle_Streets/KCM_Streets.shp\"\n",
    "kc_streets = gpd.read_file(kc_streets_path)"
   ]
  },
  {
   "cell_type": "code",
   "execution_count": 6,
   "id": "cb7a83c2-344a-4ddd-8ed0-ac6878b74a24",
   "metadata": {},
   "outputs": [
    {
     "name": "stdout",
     "output_type": "stream",
     "text": [
      "CPU times: total: 938 ms\n",
      "Wall time: 976 ms\n"
     ]
    }
   ],
   "source": [
    "%%time\n",
    "kcm_routes_path = \"./Data/Routes/Comprehensive_Routes/KCM_Routes.shp\"\n",
    "kcm_routes = gpd.read_file(kcm_routes_path)"
   ]
  },
  {
   "cell_type": "code",
   "execution_count": 7,
   "id": "a410518c-b076-4e7b-ada5-168214bdfb06",
   "metadata": {},
   "outputs": [
    {
     "name": "stdout",
     "output_type": "stream",
     "text": [
      "CPU times: total: 15.6 ms\n",
      "Wall time: 9.13 ms\n"
     ]
    }
   ],
   "source": [
    "%%time\n",
    "accel_prof_path = \"./Data/Accel_Prof/acceleration.csv\"\n",
    "raw_acc_prof = pd.read_csv(accel_prof_path, names=['time[s]', 'accel.[g]'])"
   ]
  },
  {
   "cell_type": "code",
   "execution_count": 8,
   "id": "cc33fcfd-d793-4c8b-a0a5-9bd6ba40d28e",
   "metadata": {},
   "outputs": [
    {
     "name": "stdout",
     "output_type": "stream",
     "text": [
      "CPU times: total: 62.5 ms\n",
      "Wall time: 50.7 ms\n"
     ]
    }
   ],
   "source": [
    "%%time\n",
    "all_stops = stops.copy()\n",
    "\n",
    "all_signals = signals['geometry'].reset_index(drop = True)\n",
    "\n",
    "all_limits = kc_streets[['geometry','SPEED_LIM']]\n"
   ]
  },
  {
   "cell_type": "code",
   "execution_count": 11,
   "id": "a6352a0f-e475-4d9f-ad8d-d1ef4cd9aa31",
   "metadata": {},
   "outputs": [
    {
     "data": {
      "text/plain": [
       "(47.0, 47.8)"
      ]
     },
     "execution_count": 11,
     "metadata": {},
     "output_type": "execute_result"
    },
    {
     "data": {
      "image/png": "[encoded data removed]",
      "text/plain": [
       "<Figure size 500x1000 with 1 Axes>"
      ]
     },
     "metadata": {},
     "output_type": "display_data"
    }
   ],
   "source": [
    "# Display a map of the route overlayed over area data:\n",
    "# Import area map:\n",
    "seattle = gpd.read_file(\"./Data/Census_Tracts_2000/Census_Tracts_2000.shp\")\n",
    "\n",
    "# filter out all 'water' zones in the data for clarity\n",
    "seattle = seattle[(seattle['WATER'] != 1)]\n",
    "\n",
    "# set up a figure:\n",
    "fig, ax = plt.subplots(1, figsize = (5,10))\n",
    "\n",
    "# Plot the map of the area:\n",
    "seattle.plot(color=\"#E6E6E3\", ax=ax, zorder = 0)\n",
    "#all_limits.plot(ax=ax, markersize=1)\n",
    "#all_signals.plot(ax = ax, c=\"tab:orange\", markersize=1)\n",
    "ax.set_xlim(-122.5, -121.8)\n",
    "ax.set_ylim(47, 47.8)\n",
    "\n",
    "# Landscape elevation +/= Road elevation - Vehicle dynamic models need the road elevation"
   ]
  },
  {
   "cell_type": "code",
   "execution_count": 39,
   "id": "0f885667-17f3-4e69-bb25-a42ab7bc3475",
   "metadata": {},
   "outputs": [
    {
     "name": "stdout",
     "output_type": "stream",
     "text": [
      "Available Routes:\n",
      "\t101\n",
      "\t186\n",
      "\t22\n"
     ]
    }
   ],
   "source": [
    "import os\n",
    "\n",
    "#variable for route sampling:\n",
    "route_concat_val = 6 # every 6th point in the data is used\n",
    "\n",
    "# get the available route shapefiles\n",
    "route_data_dir = \"./Data/Routes/Individual_Routes/\"\n",
    "routefiles_raw = pd.Series(os.listdir(route_data_dir))\n",
    "routefiles = routefiles_raw[routefiles_raw.apply(lambda x: ('shp' in (x.split(\".\"))[-1]))].reset_index(drop='true')\n",
    "routefiles = routefiles.apply(lambda x: \"{}{}\".format(route_data_dir, x))\n",
    "\n",
    "ridership_path = \"./Data/Trip_Data/Zon183Unsum.csv\"\n",
    "kcm_ridership = pd.read_csv(ridership_path)\n",
    "\n",
    "\n",
    "data_dict_list = []\n",
    "\n",
    "print(\"Available Routes:\")\n",
    "for route in routefiles:\n",
    "    route_shape = gpd.read_file(route)\n",
    "    route_sampled = route_shape[::route_concat_val]\n",
    "    route_geometry = route_sampled['geometry']\n",
    "    route_elevation = route_sampled['Z']\n",
    "    route_num = (route.split('rt')[-1]).split(\"_\")[0]\n",
    "    data_dict = {\"route_num\":route_num,\n",
    "                 \"geometry\":route_geometry,\n",
    "                 \"elevation\":route_elevation,\n",
    "                 \"ridership\":kcm_ridership[(kcm_ridership['Route']==route)]}\n",
    "    data_dict_list.append(data_dict)\n",
    "    print(\"\\t{}\".format(route_num))"
   ]
  },
  {
   "cell_type": "code",
   "execution_count": 11,
   "id": "edaafbf9-a085-470a-a423-28f317674f07",
   "metadata": {},
   "outputs": [],
   "source": []
  },
  {
   "cell_type": "code",
   "execution_count": 25,
   "id": "67e36864-c8d4-4d5a-a349-57a637e2761b",
   "metadata": {},
   "outputs": [
    {
     "data": {
      "text/plain": [
       "array([ 22, 221,  24, 240, 245, 246, 249, 255, 257, 269,  27, 271,  28,\n",
       "         3, 303,  31, 311,  32,  33,   1,  10, 101, 105, 106, 107,  11,\n",
       "       111, 113, 118, 119,  12, 124, 125, 128,  13, 131, 132,  14, 148,\n",
       "       150, 153, 168,  17, 177, 181, 182, 183, 187,   2, 208,  21, 212,\n",
       "       599, 775, 102, 156, 193, 930, 542, 671, 672, 226, 241, 893, 915,\n",
       "       907,  40, 673, 674, 906, 675, 676, 330, 331, 345, 346, 347, 348,\n",
       "        36, 372,   4,  43,  44,  45,  48,   5,  50, 522, 545, 550, 554,\n",
       "        56,  57,  60,  62,  65,  67,   7,  70,  73,  75, 773,   8,   9,\n",
       "       901, 903, 914, 917, 973, 975,  98, 982, 984, 986, 987, 988, 989,\n",
       "       994,  49, 556, 218, 981, 895, 630, 631,  96, 635, 204, 224, 627,\n",
       "       629, 225, 239, 231, 250, 230, 162, 165, 184, 161, 160, 322,  20,\n",
       "       302,  79, 566, 678], dtype=int64)"
      ]
     },
     "execution_count": 25,
     "metadata": {},
     "output_type": "execute_result"
    }
   ],
   "source": [
    "kcm_routes['ROUTE_NUM'].unique()"
   ]
  },
  {
   "cell_type": "code",
   "execution_count": 16,
   "id": "913412b2-c430-41f3-b871-464fe403c7ee",
   "metadata": {},
   "outputs": [
    {
     "data": {
      "text/html": [
       "<div>\n",
       "<style scoped>\n",
       "    .dataframe tbody tr th:only-of-type {\n",
       "        vertical-align: middle;\n",
       "    }\n",
       "\n",
       "    .dataframe tbody tr th {\n",
       "        vertical-align: top;\n",
       "    }\n",
       "\n",
       "    .dataframe thead th {\n",
       "        text-align: right;\n",
       "    }\n",
       "</style>\n",
       "<table border=\"1\" class=\"dataframe\">\n",
       "  <thead>\n",
       "    <tr style=\"text-align: right;\">\n",
       "      <th></th>\n",
       "      <th>Id</th>\n",
       "      <th>ORIG_FID</th>\n",
       "      <th>SHAPE_Leng</th>\n",
       "      <th>Z</th>\n",
       "      <th>geometry</th>\n",
       "    </tr>\n",
       "  </thead>\n",
       "  <tbody>\n",
       "    <tr>\n",
       "      <th>0</th>\n",
       "      <td>0</td>\n",
       "      <td>1</td>\n",
       "      <td>0.236717</td>\n",
       "      <td>324.449184</td>\n",
       "      <td>POINT (-122.38813 47.56295)</td>\n",
       "    </tr>\n",
       "    <tr>\n",
       "      <th>1</th>\n",
       "      <td>0</td>\n",
       "      <td>1</td>\n",
       "      <td>0.236717</td>\n",
       "      <td>324.591054</td>\n",
       "      <td>POINT (-122.38810 47.56295)</td>\n",
       "    </tr>\n",
       "    <tr>\n",
       "      <th>2</th>\n",
       "      <td>0</td>\n",
       "      <td>1</td>\n",
       "      <td>0.236717</td>\n",
       "      <td>324.689024</td>\n",
       "      <td>POINT (-122.38808 47.56295)</td>\n",
       "    </tr>\n",
       "    <tr>\n",
       "      <th>3</th>\n",
       "      <td>0</td>\n",
       "      <td>1</td>\n",
       "      <td>0.236717</td>\n",
       "      <td>324.780330</td>\n",
       "      <td>POINT (-122.38806 47.56295)</td>\n",
       "    </tr>\n",
       "    <tr>\n",
       "      <th>4</th>\n",
       "      <td>0</td>\n",
       "      <td>1</td>\n",
       "      <td>0.236717</td>\n",
       "      <td>324.841638</td>\n",
       "      <td>POINT (-122.38803 47.56295)</td>\n",
       "    </tr>\n",
       "    <tr>\n",
       "      <th>...</th>\n",
       "      <td>...</td>\n",
       "      <td>...</td>\n",
       "      <td>...</td>\n",
       "      <td>...</td>\n",
       "      <td>...</td>\n",
       "    </tr>\n",
       "    <tr>\n",
       "      <th>9714</th>\n",
       "      <td>0</td>\n",
       "      <td>1</td>\n",
       "      <td>0.236717</td>\n",
       "      <td>323.775553</td>\n",
       "      <td>POINT (-122.38813 47.56285)</td>\n",
       "    </tr>\n",
       "    <tr>\n",
       "      <th>9715</th>\n",
       "      <td>0</td>\n",
       "      <td>1</td>\n",
       "      <td>0.236717</td>\n",
       "      <td>347.445554</td>\n",
       "      <td>POINT (-122.38813 47.56288)</td>\n",
       "    </tr>\n",
       "    <tr>\n",
       "      <th>9716</th>\n",
       "      <td>0</td>\n",
       "      <td>1</td>\n",
       "      <td>0.236717</td>\n",
       "      <td>354.685970</td>\n",
       "      <td>POINT (-122.38813 47.56290)</td>\n",
       "    </tr>\n",
       "    <tr>\n",
       "      <th>9717</th>\n",
       "      <td>0</td>\n",
       "      <td>1</td>\n",
       "      <td>0.236717</td>\n",
       "      <td>324.268711</td>\n",
       "      <td>POINT (-122.38813 47.56292)</td>\n",
       "    </tr>\n",
       "    <tr>\n",
       "      <th>9718</th>\n",
       "      <td>0</td>\n",
       "      <td>1</td>\n",
       "      <td>0.236717</td>\n",
       "      <td>324.449184</td>\n",
       "      <td>POINT (-122.38813 47.56295)</td>\n",
       "    </tr>\n",
       "  </tbody>\n",
       "</table>\n",
       "<p>9719 rows × 5 columns</p>\n",
       "</div>"
      ],
      "text/plain": [
       "      Id  ORIG_FID  SHAPE_Leng           Z                     geometry\n",
       "0      0         1    0.236717  324.449184  POINT (-122.38813 47.56295)\n",
       "1      0         1    0.236717  324.591054  POINT (-122.38810 47.56295)\n",
       "2      0         1    0.236717  324.689024  POINT (-122.38808 47.56295)\n",
       "3      0         1    0.236717  324.780330  POINT (-122.38806 47.56295)\n",
       "4      0         1    0.236717  324.841638  POINT (-122.38803 47.56295)\n",
       "...   ..       ...         ...         ...                          ...\n",
       "9714   0         1    0.236717  323.775553  POINT (-122.38813 47.56285)\n",
       "9715   0         1    0.236717  347.445554  POINT (-122.38813 47.56288)\n",
       "9716   0         1    0.236717  354.685970  POINT (-122.38813 47.56290)\n",
       "9717   0         1    0.236717  324.268711  POINT (-122.38813 47.56292)\n",
       "9718   0         1    0.236717  324.449184  POINT (-122.38813 47.56295)\n",
       "\n",
       "[9719 rows x 5 columns]"
      ]
     },
     "execution_count": 16,
     "metadata": {},
     "output_type": "execute_result"
    }
   ],
   "source": [
    "route_path = \"./Data/Routes/Individual_Routes/rt22_pts.shp\"\n",
    "route_raw = gpd.read_file(route_path)\n",
    "route_raw"
   ]
  },
  {
   "cell_type": "code",
   "execution_count": 17,
   "id": "50499a68-93d5-481b-9456-00dd78c67b7b",
   "metadata": {},
   "outputs": [],
   "source": [
    "kc_elevation = gpd.read_file(\"./Data/Elevation_Data/KC_Elev.shp\")"
   ]
  },
  {
   "cell_type": "code",
   "execution_count": 18,
   "id": "b4cfc1ee-2578-4fae-9cce-a7a3903756db",
   "metadata": {},
   "outputs": [
    {
     "data": {
      "text/html": [
       "<div>\n",
       "<style scoped>\n",
       "    .dataframe tbody tr th:only-of-type {\n",
       "        vertical-align: middle;\n",
       "    }\n",
       "\n",
       "    .dataframe tbody tr th {\n",
       "        vertical-align: top;\n",
       "    }\n",
       "\n",
       "    .dataframe thead th {\n",
       "        text-align: right;\n",
       "    }\n",
       "</style>\n",
       "<table border=\"1\" class=\"dataframe\">\n",
       "  <thead>\n",
       "    <tr style=\"text-align: right;\">\n",
       "      <th></th>\n",
       "      <th>OBJECTID</th>\n",
       "      <th>SERIAL_ID</th>\n",
       "      <th>area_name</th>\n",
       "      <th>DATA_SOURC</th>\n",
       "      <th>DESCRIP</th>\n",
       "      <th>TILESUFFIX</th>\n",
       "      <th>VINTAGE</th>\n",
       "      <th>Shape_Leng</th>\n",
       "      <th>Shape_Area</th>\n",
       "      <th>geometry</th>\n",
       "    </tr>\n",
       "  </thead>\n",
       "  <tbody>\n",
       "    <tr>\n",
       "      <th>39</th>\n",
       "      <td>40</td>\n",
       "      <td>140</td>\n",
       "      <td>King County</td>\n",
       "      <td>nv21</td>\n",
       "      <td>NV5 Geospatial 2021</td>\n",
       "      <td>nv21</td>\n",
       "      <td>2021</td>\n",
       "      <td>3.828027e+06</td>\n",
       "      <td>6.359013e+10</td>\n",
       "      <td>MULTIPOLYGON (((-122.38728 47.66213, -122.3872...</td>\n",
       "    </tr>\n",
       "  </tbody>\n",
       "</table>\n",
       "</div>"
      ],
      "text/plain": [
       "    OBJECTID  SERIAL_ID    area_name DATA_SOURC              DESCRIP  \\\n",
       "39        40        140  King County       nv21  NV5 Geospatial 2021   \n",
       "\n",
       "   TILESUFFIX  VINTAGE    Shape_Leng    Shape_Area  \\\n",
       "39       nv21     2021  3.828027e+06  6.359013e+10   \n",
       "\n",
       "                                             geometry  \n",
       "39  MULTIPOLYGON (((-122.38728 47.66213, -122.3872...  "
      ]
     },
     "execution_count": 18,
     "metadata": {},
     "output_type": "execute_result"
    }
   ],
   "source": [
    "kc_elevation[kc_elevation.area_name == 'King County']"
   ]
  },
  {
   "cell_type": "code",
   "execution_count": null,
   "id": "a2f7843a-febd-4d55-9f36-2de3fe86d8ff",
   "metadata": {},
   "outputs": [],
   "source": []
  }
 ],
 "metadata": {
  "kernelspec": {
   "display_name": "Python 3 (ipykernel)",
   "language": "python",
   "name": "python3"
  },
  "language_info": {
   "codemirror_mode": {
    "name": "ipython",
    "version": 3
   },
   "file_extension": ".py",
   "mimetype": "text/x-python",
   "name": "python",
   "nbconvert_exporter": "python",
   "pygments_lexer": "ipython3",
   "version": "3.9.18"
  }
 },
 "nbformat": 4,
 "nbformat_minor": 5
}
