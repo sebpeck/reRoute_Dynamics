{
 "cells": [
  {
   "cell_type": "code",
   "execution_count": 1,
   "id": "5d5b8804-1632-4445-b88b-6dcbbf3a138e",
   "metadata": {},
   "outputs": [
    {
     "data": {
      "text/plain": [
       "'\\nBusModel Tester\\n'"
      ]
     },
     "execution_count": 1,
     "metadata": {},
     "output_type": "execute_result"
    }
   ],
   "source": [
    "'''\n",
    "BusModel Tester\n",
    "'''"
   ]
  },
  {
   "cell_type": "code",
   "execution_count": 2,
   "id": "f3f6a3a4-0796-495f-9150-e041fdeda7b1",
   "metadata": {},
   "outputs": [],
   "source": [
    "import geopandas as gpd\n",
    "import matplotlib.pyplot as plt\n",
    "import pandas as pd\n",
    "import numpy as np"
   ]
  },
  {
   "cell_type": "code",
   "execution_count": 12,
   "id": "edb0d3d6-dca8-4e26-bb3c-234258258ee1",
   "metadata": {},
   "outputs": [],
   "source": [
    "import BusModel as bm"
   ]
  },
  {
   "cell_type": "code",
   "execution_count": 13,
   "id": "190fe1c4-3753-40e2-bcfd-1ebb54d61af7",
   "metadata": {},
   "outputs": [],
   "source": [
    "# Import an acceleration profile\n",
    "acc_prof_path = \"./Data/Accel_Prof/acceleration.csv\"\n",
    "raw_acc_prof = pd.read_csv(acc_prof_path, names=['time[s]', 'accel.[g]'])\n",
    "\n",
    "# Make a duplicate to alter\n",
    "a_prof = raw_acc_prof.copy()\n",
    "\n",
    "# Convert g's to m/s^2 and then drop g's\n",
    "a_prof['accel.[m/s^2]'] = a_prof['accel.[g]'] * 9.81\n",
    "a_prof = a_prof.drop(columns = ['accel.[g]'])"
   ]
  },
  {
   "cell_type": "code",
   "execution_count": 14,
   "id": "2adb644e-14c4-4a58-9515-cbffc970e22d",
   "metadata": {},
   "outputs": [
    {
     "name": "stdout",
     "output_type": "stream",
     "text": [
      "Power used: 39342.766129904514, Time elapsed 6.055045872\n",
      "Power used: 109135.82084380479, Time elapsed 2.935779817\n",
      "Power used: 135770.82161350525, Time elapsed 1.972477064\n",
      "Power used: 154165.73227669197, Time elapsed 1.972477064\n"
     ]
    }
   ],
   "source": [
    "# Create a default bus with the acceleration profile from above\n",
    "default_bus = bm.BusModel(a_prof)\n",
    "\n",
    "# accelerate the bus until the velocity is greater than 10 m/s^2.\n",
    "while (default_bus.velocity() < 10):\n",
    "    pwr, time = default_bus.accelerate_v2(14.985273207016998)\n",
    "    print('Power used: {}, Time elapsed {}'.format(pwr, time))"
   ]
  },
  {
   "cell_type": "code",
   "execution_count": null,
   "id": "8704002a-72ed-4c86-9bf2-25fe8bf56853",
   "metadata": {},
   "outputs": [],
   "source": []
  }
 ],
 "metadata": {
  "kernelspec": {
   "display_name": "Python 3 (ipykernel)",
   "language": "python",
   "name": "python3"
  },
  "language_info": {
   "codemirror_mode": {
    "name": "ipython",
    "version": 3
   },
   "file_extension": ".py",
   "mimetype": "text/x-python",
   "name": "python",
   "nbconvert_exporter": "python",
   "pygments_lexer": "ipython3",
   "version": "3.9.18"
  }
 },
 "nbformat": 4,
 "nbformat_minor": 5
}
