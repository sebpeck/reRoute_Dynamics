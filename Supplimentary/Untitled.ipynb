{
 "cells": [
  {
   "cell_type": "code",
   "execution_count": 1,
   "id": "ace621fb-02d5-4437-a6de-6ec0865c8788",
   "metadata": {},
   "outputs": [
    {
     "data": {
      "text/plain": [
       "'\\nCumulative test of RouteMap, BusModel, and TripDynamics.\\n'"
      ]
     },
     "execution_count": 1,
     "metadata": {},
     "output_type": "execute_result"
    }
   ],
   "source": [
    "'''\n",
    "Cumulative test of RouteMap, BusModel, and TripDynamics.\n",
    "'''"
   ]
  },
  {
   "cell_type": "code",
   "execution_count": 2,
   "id": "a972c189-ccd6-4335-829e-519275bd3004",
   "metadata": {},
   "outputs": [],
   "source": [
    "# General Imports\n",
    "import geopandas as gpd\n",
    "import matplotlib.pyplot as plt\n",
    "import pandas as pd\n",
    "import numpy as np"
   ]
  },
  {
   "cell_type": "code",
   "execution_count": 5,
   "id": "7a70d7dc-2a1e-4e4b-b6db-88e385e9f1df",
   "metadata": {},
   "outputs": [],
   "source": [
    "# Package Imports\n",
    "import RouteMap as rm\n",
    "import BusModel as bm\n",
    "import TripDynamics as td\n",
    "import Helper_Methods as hm"
   ]
  },
  {
   "cell_type": "code",
   "execution_count": null,
   "id": "f22f0d70-8784-451d-95fa-2d98f6100089",
   "metadata": {},
   "outputs": [],
   "source": [
    "# Import the relevant area data:\n",
    "# All Transit Stops:\n",
    "stops_path = \"./Data/Transit_Stops/Transit_Stops_for_King_County_Metro__transitstop_point.shp\"\n",
    "\n",
    "# All signal lights:\n"
   ]
  },
  {
   "cell_type": "code",
   "execution_count": 6,
   "id": "25ab0751-e6f9-4789-a3b0-5bc10c6ba56e",
   "metadata": {},
   "outputs": [],
   "source": [
    "# Setting up the route\n",
    "route = 22\n",
    "concat_val = 6\n",
    "period = 'AM'"
   ]
  },
  {
   "cell_type": "code",
   "execution_count": null,
   "id": "cfcf38e2-06f9-447e-bde4-c8dad227f9b2",
   "metadata": {},
   "outputs": [],
   "source": []
  },
  {
   "cell_type": "code",
   "execution_count": null,
   "id": "d599b1bd-3443-41af-92fe-c3535ec85c8a",
   "metadata": {},
   "outputs": [],
   "source": []
  }
 ],
 "metadata": {
  "kernelspec": {
   "display_name": "Python 3 (ipykernel)",
   "language": "python",
   "name": "python3"
  },
  "language_info": {
   "codemirror_mode": {
    "name": "ipython",
    "version": 3
   },
   "file_extension": ".py",
   "mimetype": "text/x-python",
   "name": "python",
   "nbconvert_exporter": "python",
   "pygments_lexer": "ipython3",
   "version": "3.9.18"
  }
 },
 "nbformat": 4,
 "nbformat_minor": 5
}
